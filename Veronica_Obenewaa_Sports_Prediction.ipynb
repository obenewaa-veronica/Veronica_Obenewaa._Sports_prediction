{
  "cells": [
    {
      "cell_type": "code",
      "execution_count": 71,
      "id": "CB7Mi9tEFIwZ",
      "metadata": {
        "id": "CB7Mi9tEFIwZ"
      },
      "outputs": [],
      "source": [
        "# Importing relevant libraries\n",
        "\n",
        "import pickle\n",
        "import warnings\n",
        "import numpy as np\n",
        "import pandas as pd\n",
        "from sklearn.svm import SVC\n",
        "import matplotlib.pyplot as plt\n",
        "from xgboost import XGBRegressor\n",
        "from sklearn.impute import SimpleImputer\n",
        "from sklearn.metrics import accuracy_score\n",
        "from sklearn.ensemble import VotingClassifier\n",
        "from sklearn.tree import DecisionTreeClassifier\n",
        "from sklearn.preprocessing import StandardScaler\n",
        "from sklearn.model_selection import GridSearchCV\n",
        "from sklearn.neighbors import KNeighborsClassifier\n",
        "from sklearn.ensemble import RandomForestClassifier\n",
        "from sklearn.model_selection import cross_val_score\n",
        "from sklearn.model_selection import train_test_split\n",
        "warnings.simplefilter(action='ignore', category=Warning) # Suppress warnings\n",
        "from sklearn.ensemble import RandomForestRegressor, GradientBoostingRegressor\n",
        "from sklearn.metrics import make_scorer, mean_absolute_error, mean_squared_error, r2_score\n",
        "\n",
        "\n"
      ]
    },
    {
      "cell_type": "code",
      "execution_count": 2,
      "id": "nmY26jZgFLVg",
      "metadata": {
        "colab": {
          "base_uri": "https://localhost:8080/"
        },
        "id": "nmY26jZgFLVg",
        "outputId": "16a6e09e-811f-49f4-fe18-e0b9e776c5f8"
      },
      "outputs": [
        {
          "output_type": "stream",
          "name": "stdout",
          "text": [
            "Mounted at /content/drive\n"
          ]
        }
      ],
      "source": [
        "from google.colab import drive\n",
        "drive.mount('/content/drive')\n"
      ]
    },
    {
      "cell_type": "markdown",
      "id": "4fWrbJo9z_jk",
      "metadata": {
        "id": "4fWrbJo9z_jk"
      },
      "source": [
        "### Data Preparation & Feature Extraction"
      ]
    },
    {
      "cell_type": "code",
      "execution_count": 3,
      "id": "V0ysLENaFkea",
      "metadata": {
        "id": "V0ysLENaFkea"
      },
      "outputs": [],
      "source": [
        "# To display all the columns of the dataset:\n",
        "pd.set_option('display.max_columns', None)\n",
        "data_male_players= pd.read_csv('/content/drive/My Drive/Veronica/Assignment 2/New/male_players.csv')\n",
        "data_players_22= pd.read_csv('/content/drive/My Drive/Veronica/Assignment 2/New/players_22.csv')\n"
      ]
    },
    {
      "cell_type": "code",
      "execution_count": 4,
      "id": "wjQ50SYJv-bQ",
      "metadata": {
        "id": "wjQ50SYJv-bQ"
      },
      "outputs": [],
      "source": [
        "male_players = pd.DataFrame(data_male_players)\n",
        "players_22 = pd.DataFrame(data_players_22)"
      ]
    },
    {
      "cell_type": "code",
      "execution_count": null,
      "id": "yy5z3KQgI7US",
      "metadata": {
        "id": "yy5z3KQgI7US"
      },
      "outputs": [],
      "source": [
        "male_players.head()"
      ]
    },
    {
      "cell_type": "code",
      "execution_count": null,
      "id": "81e017e1-4c58-4f0b-8410-690e9d6aaba5",
      "metadata": {
        "id": "81e017e1-4c58-4f0b-8410-690e9d6aaba5"
      },
      "outputs": [],
      "source": [
        "players_22.head()"
      ]
    },
    {
      "cell_type": "code",
      "execution_count": null,
      "id": "9px1CewfO6aX",
      "metadata": {
        "id": "9px1CewfO6aX"
      },
      "outputs": [],
      "source": [
        "male_players.describe()"
      ]
    },
    {
      "cell_type": "code",
      "execution_count": null,
      "id": "56c0ae95-13b4-4c3b-8433-8ac27891157c",
      "metadata": {
        "id": "56c0ae95-13b4-4c3b-8433-8ac27891157c"
      },
      "outputs": [],
      "source": [
        "# gives a description of the dataset player_21\n",
        "players_22.describe()"
      ]
    },
    {
      "cell_type": "code",
      "execution_count": null,
      "id": "mcWO7cRDPH3Z",
      "metadata": {
        "id": "mcWO7cRDPH3Z"
      },
      "outputs": [],
      "source": [
        "# getting information about the male_players_legacy dataset\n",
        "\n",
        "male_players.info()"
      ]
    },
    {
      "cell_type": "code",
      "execution_count": null,
      "id": "073cd3fb-7c19-40ff-81b0-4f0bb70fb9ab",
      "metadata": {
        "id": "073cd3fb-7c19-40ff-81b0-4f0bb70fb9ab"
      },
      "outputs": [],
      "source": [
        "# getting information about the players_22 dataset\n",
        "players_22.info()"
      ]
    },
    {
      "cell_type": "code",
      "execution_count": null,
      "id": "f_bQzgYsqNW8",
      "metadata": {
        "colab": {
          "base_uri": "https://localhost:8080/"
        },
        "id": "f_bQzgYsqNW8",
        "outputId": "ee23637b-9603-465e-81a3-4748720c6814"
      },
      "outputs": [
        {
          "data": {
            "text/plain": [
              "(161583, 110)"
            ]
          },
          "execution_count": 4,
          "metadata": {},
          "output_type": "execute_result"
        }
      ],
      "source": [
        "male_players.shape"
      ]
    },
    {
      "cell_type": "code",
      "execution_count": null,
      "id": "eZbYoQ3_qVs_",
      "metadata": {
        "colab": {
          "base_uri": "https://localhost:8080/"
        },
        "id": "eZbYoQ3_qVs_",
        "outputId": "ebcd9278-d3b7-4db3-c277-671ddbe66395"
      },
      "outputs": [
        {
          "data": {
            "text/plain": [
              "(19239, 110)"
            ]
          },
          "execution_count": 5,
          "metadata": {},
          "output_type": "execute_result"
        }
      ],
      "source": [
        "players_22.shape\n"
      ]
    },
    {
      "cell_type": "code",
      "execution_count": null,
      "id": "jydWxXTOPSXw",
      "metadata": {
        "colab": {
          "base_uri": "https://localhost:8080/"
        },
        "id": "jydWxXTOPSXw",
        "outputId": "a718397a-6e01-49d6-8c72-2e2fd7b69d11"
      },
      "outputs": [
        {
          "data": {
            "text/plain": [
              "Index(['player_id', 'player_url', 'fifa_version', 'fifa_update',\n",
              "       'fifa_update_date', 'short_name', 'long_name', 'player_positions',\n",
              "       'overall_rating', 'potential',\n",
              "       ...\n",
              "       'cdm', 'rdm', 'rwb', 'lb', 'lcb', 'cb', 'rcb', 'rb', 'gk',\n",
              "       'player_face_url'],\n",
              "      dtype='object', length=101)"
            ]
          },
          "execution_count": 113,
          "metadata": {},
          "output_type": "execute_result"
        }
      ],
      "source": [
        "male_players.columns"
      ]
    },
    {
      "cell_type": "code",
      "execution_count": null,
      "id": "137c0653-b773-4304-b454-2112c0bbf52e",
      "metadata": {
        "colab": {
          "base_uri": "https://localhost:8080/"
        },
        "id": "137c0653-b773-4304-b454-2112c0bbf52e",
        "outputId": "969ef9e2-67db-47ad-8b48-9f0c63275c39"
      },
      "outputs": [
        {
          "data": {
            "text/plain": [
              "Index(['sofifa_id', 'player_url', 'short_name', 'long_name',\n",
              "       'player_positions', 'overall', 'potential', 'value_eur', 'wage_eur',\n",
              "       'age',\n",
              "       ...\n",
              "       'lcb', 'cb', 'rcb', 'rb', 'gk', 'player_face_url', 'club_logo_url',\n",
              "       'club_flag_url', 'nation_logo_url', 'nation_flag_url'],\n",
              "      dtype='object', length=110)"
            ]
          },
          "execution_count": 5,
          "metadata": {},
          "output_type": "execute_result"
        }
      ],
      "source": [
        "# viewing the columns of the dataset player_22\n",
        "players_22.columns"
      ]
    },
    {
      "cell_type": "code",
      "execution_count": null,
      "id": "b42d60a9-fe14-4cc9-8815-1323d22e762e",
      "metadata": {
        "id": "b42d60a9-fe14-4cc9-8815-1323d22e762e"
      },
      "outputs": [],
      "source": [
        "players_22.hist(bins=50, figsize=(20,15))\n",
        "plt.show()"
      ]
    },
    {
      "cell_type": "code",
      "execution_count": null,
      "id": "3tQj786PHzEC",
      "metadata": {
        "id": "3tQj786PHzEC"
      },
      "outputs": [],
      "source": [
        "male_players.hist(bins=50, figsize=(20,15))\n",
        "plt.show()"
      ]
    },
    {
      "cell_type": "markdown",
      "id": "kR6_3uG_l6dv",
      "metadata": {
        "id": "kR6_3uG_l6dv"
      },
      "source": [
        "Rename the overall column to overall rating"
      ]
    },
    {
      "cell_type": "code",
      "execution_count": 5,
      "id": "a07c3764-4b9c-46b4-93ec-347934003df8",
      "metadata": {
        "id": "a07c3764-4b9c-46b4-93ec-347934003df8"
      },
      "outputs": [],
      "source": [
        "# Rename the column: overall to overall_rating\n",
        "\n",
        "male_players.rename(columns={'overall':'overall_rating', },inplace=True)\n",
        "players_22.rename(columns={'overall':'overall_rating', },inplace=True)"
      ]
    },
    {
      "cell_type": "markdown",
      "id": "Vvge8M1-Ni2j",
      "metadata": {
        "id": "Vvge8M1-Ni2j"
      },
      "source": [
        "Dropping some redundant columns\n",
        "\n",
        "\n",
        "\n"
      ]
    },
    {
      "cell_type": "code",
      "execution_count": 6,
      "id": "mFsvCK_fvxOM",
      "metadata": {
        "id": "mFsvCK_fvxOM"
      },
      "outputs": [],
      "source": [
        "# Removing columns with more than 30% missing values and also selecting columns without any NaN values\n",
        "male_players = male_players.loc[:, (male_players.isnull().mean() <= 0.3) | (male_players.isnull().sum() == 0)]\n",
        "players_22 = players_22.loc[:, (players_22.isnull().mean() <= 0.3) | (players_22.isnull().sum() == 0)]"
      ]
    },
    {
      "cell_type": "code",
      "execution_count": 7,
      "id": "5qX1QOVuy1ww",
      "metadata": {
        "id": "5qX1QOVuy1ww"
      },
      "outputs": [],
      "source": [
        "# Drop the following columns in male_players:\n",
        "\n",
        "male_players.drop(['mentality_composure'], axis=1, inplace=True)\n",
        "male_players.drop(['player_id'], axis=1, inplace=True)\n",
        "male_players.drop(['nationality_id'], axis=1, inplace=True)\n",
        "male_players.drop(['club_team_id'], axis=1, inplace=True)\n",
        "male_players.drop(['league_id'], axis=1, inplace=True)"
      ]
    },
    {
      "cell_type": "code",
      "execution_count": 8,
      "id": "uccdKkFry9ty",
      "metadata": {
        "id": "uccdKkFry9ty"
      },
      "outputs": [],
      "source": [
        "# Drop the following columns in players_22:\n",
        "players_22.drop(['sofifa_id'], axis=1, inplace=True)"
      ]
    },
    {
      "cell_type": "code",
      "execution_count": 9,
      "id": "GvfFPaQquwNa",
      "metadata": {
        "colab": {
          "base_uri": "https://localhost:8080/"
        },
        "id": "GvfFPaQquwNa",
        "outputId": "5fc8f899-813a-49cd-b66d-2517dc95a79e"
      },
      "outputs": [
        {
          "output_type": "execute_result",
          "data": {
            "text/plain": [
              "(161583, 97)"
            ]
          },
          "metadata": {},
          "execution_count": 9
        }
      ],
      "source": [
        "male_players.shape"
      ]
    },
    {
      "cell_type": "code",
      "execution_count": 10,
      "id": "iH1vAvfmutxb",
      "metadata": {
        "colab": {
          "base_uri": "https://localhost:8080/"
        },
        "id": "iH1vAvfmutxb",
        "outputId": "768b0eaf-48cf-4bd9-a018-545b303391a0"
      },
      "outputs": [
        {
          "output_type": "execute_result",
          "data": {
            "text/plain": [
              "(19239, 101)"
            ]
          },
          "metadata": {},
          "execution_count": 10
        }
      ],
      "source": [
        "players_22.shape"
      ]
    },
    {
      "cell_type": "markdown",
      "id": "fQEOONMzMPBv",
      "metadata": {
        "id": "fQEOONMzMPBv"
      },
      "source": [
        "Checking for null values"
      ]
    },
    {
      "cell_type": "code",
      "execution_count": null,
      "id": "P8TwsE1kzkCV",
      "metadata": {
        "colab": {
          "base_uri": "https://localhost:8080/"
        },
        "id": "P8TwsE1kzkCV",
        "outputId": "e4e187f5-ce4c-4705-d57a-c7f4b87b05e7"
      },
      "outputs": [
        {
          "data": {
            "text/plain": [
              "player_id           0\n",
              "player_url          0\n",
              "fifa_version        0\n",
              "fifa_update         0\n",
              "fifa_update_date    0\n",
              "                   ..\n",
              "cb                  0\n",
              "rcb                 0\n",
              "rb                  0\n",
              "gk                  0\n",
              "player_face_url     0\n",
              "Length: 98, dtype: int64"
            ]
          },
          "execution_count": 124,
          "metadata": {},
          "output_type": "execute_result"
        }
      ],
      "source": [
        "# for col in male_players:\n",
        "male_players.isnull().sum()"
      ]
    },
    {
      "cell_type": "code",
      "execution_count": null,
      "id": "00x_YOF1LGg5",
      "metadata": {
        "colab": {
          "base_uri": "https://localhost:8080/"
        },
        "id": "00x_YOF1LGg5",
        "outputId": "9ea454c2-df40-4a02-dce3-0a5fa9f82c65"
      },
      "outputs": [
        {
          "data": {
            "text/plain": [
              "sofifa_id            0\n",
              "player_url           0\n",
              "short_name           0\n",
              "long_name            0\n",
              "player_positions     0\n",
              "                    ..\n",
              "gk                   0\n",
              "player_face_url      0\n",
              "club_logo_url       61\n",
              "club_flag_url       61\n",
              "nation_flag_url      0\n",
              "Length: 102, dtype: int64"
            ]
          },
          "execution_count": 125,
          "metadata": {},
          "output_type": "execute_result"
        }
      ],
      "source": [
        "# for col in players_22:\n",
        "players_22.isnull().sum()"
      ]
    },
    {
      "cell_type": "code",
      "execution_count": 11,
      "id": "5NsoRVn2vfk5",
      "metadata": {
        "colab": {
          "base_uri": "https://localhost:8080/"
        },
        "id": "5NsoRVn2vfk5",
        "outputId": "c856e457-8885-41bf-dc2c-11b02fc7d5d2"
      },
      "outputs": [
        {
          "output_type": "stream",
          "name": "stdout",
          "text": [
            "['value_eur', 'wage_eur', 'league_name', 'league_level', 'club_name', 'club_position', 'club_jersey_number', 'club_joined_date', 'club_contract_valid_until_year', 'pace', 'shooting', 'passing', 'dribbling', 'defending', 'physic'] \n",
            "\n",
            "['value_eur', 'wage_eur', 'club_team_id', 'club_name', 'league_name', 'league_level', 'club_position', 'club_jersey_number', 'club_joined', 'club_contract_valid_until', 'release_clause_eur', 'pace', 'shooting', 'passing', 'dribbling', 'defending', 'physic', 'club_logo_url', 'club_flag_url']\n"
          ]
        }
      ],
      "source": [
        "# Print the columns names containing null values or missing values in the form of a list\n",
        "\n",
        "# For male_players\n",
        "missing_values_for_male_players = male_players.isnull().sum()\n",
        "columns_with_missing_values_for_male_players = missing_values_for_male_players[missing_values_for_male_players > 0].index.tolist()\n",
        "\n",
        "# For players_22\n",
        "missing_values_for_players_22 = players_22.isnull().sum()\n",
        "columns_with_missing_values_for_players_22 = missing_values_for_players_22[missing_values_for_players_22 > 0].index.tolist()\n",
        "\n",
        "print(columns_with_missing_values_for_male_players,\"\\n\")\n",
        "print(columns_with_missing_values_for_players_22)"
      ]
    },
    {
      "cell_type": "markdown",
      "id": "6s0rePNzzofZ",
      "metadata": {
        "id": "6s0rePNzzofZ"
      },
      "source": [
        "Extracting Non-Categorical Features"
      ]
    },
    {
      "cell_type": "code",
      "execution_count": 12,
      "id": "43P6PJgp6fZX",
      "metadata": {
        "id": "43P6PJgp6fZX"
      },
      "outputs": [],
      "source": [
        "# Keep the following categorical features for male_players\n",
        "preferred_foot_for_male_players = male_players['preferred_foot']\n",
        "work_rate_for_male_players = male_players['work_rate']\n",
        "\n",
        "# Keep the following categorical features for players_22\n",
        "preferred_foot_for_players_22 = players_22['preferred_foot']\n",
        "work_rate_for_players_22 = players_22['work_rate']"
      ]
    },
    {
      "cell_type": "code",
      "execution_count": 13,
      "id": "TW-TNusHaiIC",
      "metadata": {
        "colab": {
          "base_uri": "https://localhost:8080/"
        },
        "id": "TW-TNusHaiIC",
        "outputId": "0b82efdb-3521-42f8-f23f-b95fa455b73f"
      },
      "outputs": [
        {
          "output_type": "stream",
          "name": "stdout",
          "text": [
            "Index(['fifa_version', 'fifa_update', 'overall_rating', 'potential',\n",
            "       'value_eur', 'wage_eur', 'age', 'height_cm', 'weight_kg',\n",
            "       'league_level', 'club_jersey_number', 'club_contract_valid_until_year',\n",
            "       'weak_foot', 'skill_moves', 'international_reputation', 'pace',\n",
            "       'shooting', 'passing', 'dribbling', 'defending', 'physic',\n",
            "       'attacking_crossing', 'attacking_finishing',\n",
            "       'attacking_heading_accuracy', 'attacking_short_passing',\n",
            "       'attacking_volleys', 'skill_dribbling', 'skill_curve',\n",
            "       'skill_fk_accuracy', 'skill_long_passing', 'skill_ball_control',\n",
            "       'movement_acceleration', 'movement_sprint_speed', 'movement_agility',\n",
            "       'movement_reactions', 'movement_balance', 'power_shot_power',\n",
            "       'power_jumping', 'power_stamina', 'power_strength', 'power_long_shots',\n",
            "       'mentality_aggression', 'mentality_interceptions',\n",
            "       'mentality_positioning', 'mentality_vision', 'mentality_penalties',\n",
            "       'defending_marking_awareness', 'defending_standing_tackle',\n",
            "       'defending_sliding_tackle', 'goalkeeping_diving',\n",
            "       'goalkeeping_handling', 'goalkeeping_kicking',\n",
            "       'goalkeeping_positioning', 'goalkeeping_reflexes'],\n",
            "      dtype='object') \n",
            "\n",
            "Index(['overall_rating', 'potential', 'value_eur', 'wage_eur', 'age',\n",
            "       'height_cm', 'weight_kg', 'club_team_id', 'league_level',\n",
            "       'club_jersey_number', 'club_contract_valid_until', 'nationality_id',\n",
            "       'weak_foot', 'skill_moves', 'international_reputation',\n",
            "       'release_clause_eur', 'pace', 'shooting', 'passing', 'dribbling',\n",
            "       'defending', 'physic', 'attacking_crossing', 'attacking_finishing',\n",
            "       'attacking_heading_accuracy', 'attacking_short_passing',\n",
            "       'attacking_volleys', 'skill_dribbling', 'skill_curve',\n",
            "       'skill_fk_accuracy', 'skill_long_passing', 'skill_ball_control',\n",
            "       'movement_acceleration', 'movement_sprint_speed', 'movement_agility',\n",
            "       'movement_reactions', 'movement_balance', 'power_shot_power',\n",
            "       'power_jumping', 'power_stamina', 'power_strength', 'power_long_shots',\n",
            "       'mentality_aggression', 'mentality_interceptions',\n",
            "       'mentality_positioning', 'mentality_vision', 'mentality_penalties',\n",
            "       'mentality_composure', 'defending_marking_awareness',\n",
            "       'defending_standing_tackle', 'defending_sliding_tackle',\n",
            "       'goalkeeping_diving', 'goalkeeping_handling', 'goalkeeping_kicking',\n",
            "       'goalkeeping_positioning', 'goalkeeping_reflexes'],\n",
            "      dtype='object')\n"
          ]
        }
      ],
      "source": [
        "# Extract numerical features\n",
        "\n",
        "num_cols_for_male_players = male_players.select_dtypes(include=['number']).columns\n",
        "num_cols_for_players_22 = players_22.select_dtypes(include=['number']).columns\n",
        "print(num_cols_for_male_players, \"\\n\")\n",
        "print(num_cols_for_players_22)"
      ]
    },
    {
      "cell_type": "code",
      "execution_count": 14,
      "id": "rKAFuL--dlum",
      "metadata": {
        "colab": {
          "base_uri": "https://localhost:8080/",
          "height": 226
        },
        "id": "rKAFuL--dlum",
        "outputId": "ef729932-5fb2-48d5-e00d-15f8ae50c42f"
      },
      "outputs": [
        {
          "output_type": "execute_result",
          "data": {
            "text/plain": [
              "   fifa_version  fifa_update  overall_rating  potential    value_eur  \\\n",
              "0            15            2              93         95  100500000.0   \n",
              "1            15            2              92         92   79000000.0   \n",
              "2            15            2              90         90   54500000.0   \n",
              "3            15            2              90         90   52500000.0   \n",
              "4            15            2              90         90   63500000.0   \n",
              "\n",
              "   wage_eur  age  height_cm  weight_kg  league_level  club_jersey_number  \\\n",
              "0  550000.0   27        169         67           1.0                10.0   \n",
              "1  375000.0   29        185         80           1.0                 7.0   \n",
              "2  275000.0   30        180         80           1.0                10.0   \n",
              "3  275000.0   32        195         95           1.0                10.0   \n",
              "4  300000.0   28        193         92           1.0                 1.0   \n",
              "\n",
              "   club_contract_valid_until_year  weak_foot  skill_moves  \\\n",
              "0                          2018.0          3            4   \n",
              "1                          2018.0          4            5   \n",
              "2                          2017.0          2            4   \n",
              "3                          2016.0          4            4   \n",
              "4                          2019.0          4            1   \n",
              "\n",
              "   international_reputation  pace  shooting  passing  dribbling  defending  \\\n",
              "0                         5  93.0      89.0     86.0       96.0       27.0   \n",
              "1                         5  93.0      93.0     81.0       91.0       32.0   \n",
              "2                         5  93.0      86.0     83.0       92.0       32.0   \n",
              "3                         5  76.0      91.0     81.0       86.0       34.0   \n",
              "4                         5   NaN       NaN      NaN        NaN        NaN   \n",
              "\n",
              "   physic  attacking_crossing  attacking_finishing  \\\n",
              "0    63.0                  84                   94   \n",
              "1    79.0                  83                   95   \n",
              "2    64.0                  80                   85   \n",
              "3    86.0                  76                   91   \n",
              "4     NaN                  25                   25   \n",
              "\n",
              "   attacking_heading_accuracy  attacking_short_passing  attacking_volleys  \\\n",
              "0                          71                       89                 85   \n",
              "1                          86                       82                 87   \n",
              "2                          50                       86                 86   \n",
              "3                          76                       84                 92   \n",
              "4                          25                       42                 25   \n",
              "\n",
              "   skill_dribbling  skill_curve  skill_fk_accuracy  skill_long_passing  \\\n",
              "0               96           89                 90                  76   \n",
              "1               93           88                 79                  72   \n",
              "2               93           85                 83                  76   \n",
              "3               88           80                 80                  76   \n",
              "4               25           25                 25                  41   \n",
              "\n",
              "   skill_ball_control  movement_acceleration  movement_sprint_speed  \\\n",
              "0                  96                     96                     90   \n",
              "1                  92                     91                     94   \n",
              "2                  90                     93                     93   \n",
              "3                  90                     74                     77   \n",
              "4                  31                     58                     61   \n",
              "\n",
              "   movement_agility  movement_reactions  movement_balance  power_shot_power  \\\n",
              "0                94                  94                95                80   \n",
              "1                93                  90                63                94   \n",
              "2                93                  89                91                86   \n",
              "3                86                  85                41                93   \n",
              "4                43                  89                35                42   \n",
              "\n",
              "   power_jumping  power_stamina  power_strength  power_long_shots  \\\n",
              "0             73             77              60                88   \n",
              "1             94             89              79                93   \n",
              "2             61             78              65                90   \n",
              "3             72             78              93                88   \n",
              "4             78             44              83                25   \n",
              "\n",
              "   mentality_aggression  mentality_interceptions  mentality_positioning  \\\n",
              "0                    48                       22                     92   \n",
              "1                    63                       24                     91   \n",
              "2                    47                       39                     89   \n",
              "3                    84                       20                     86   \n",
              "4                    29                       30                     25   \n",
              "\n",
              "   mentality_vision  mentality_penalties  defending_marking_awareness  \\\n",
              "0                90                   76                           25   \n",
              "1                81                   85                           22   \n",
              "2                84                   80                           29   \n",
              "3                83                   91                           25   \n",
              "4                20                   37                           25   \n",
              "\n",
              "   defending_standing_tackle  defending_sliding_tackle  goalkeeping_diving  \\\n",
              "0                         21                        20                   6   \n",
              "1                         31                        23                   7   \n",
              "2                         26                        26                  10   \n",
              "3                         41                        27                  13   \n",
              "4                         25                        25                  87   \n",
              "\n",
              "   goalkeeping_handling  goalkeeping_kicking  goalkeeping_positioning  \\\n",
              "0                    11                   15                       14   \n",
              "1                    11                   15                       14   \n",
              "2                     8                   11                        5   \n",
              "3                    15                   10                        9   \n",
              "4                    85                   92                       90   \n",
              "\n",
              "   goalkeeping_reflexes  \n",
              "0                     8  \n",
              "1                    11  \n",
              "2                    15  \n",
              "3                    12  \n",
              "4                    86  "
            ],
            "text/html": [
              "\n",
              "  <div id=\"df-cad257ea-eb72-4ca2-98d0-c03ff9ef7084\" class=\"colab-df-container\">\n",
              "    <div>\n",
              "<style scoped>\n",
              "    .dataframe tbody tr th:only-of-type {\n",
              "        vertical-align: middle;\n",
              "    }\n",
              "\n",
              "    .dataframe tbody tr th {\n",
              "        vertical-align: top;\n",
              "    }\n",
              "\n",
              "    .dataframe thead th {\n",
              "        text-align: right;\n",
              "    }\n",
              "</style>\n",
              "<table border=\"1\" class=\"dataframe\">\n",
              "  <thead>\n",
              "    <tr style=\"text-align: right;\">\n",
              "      <th></th>\n",
              "      <th>fifa_version</th>\n",
              "      <th>fifa_update</th>\n",
              "      <th>overall_rating</th>\n",
              "      <th>potential</th>\n",
              "      <th>value_eur</th>\n",
              "      <th>wage_eur</th>\n",
              "      <th>age</th>\n",
              "      <th>height_cm</th>\n",
              "      <th>weight_kg</th>\n",
              "      <th>league_level</th>\n",
              "      <th>club_jersey_number</th>\n",
              "      <th>club_contract_valid_until_year</th>\n",
              "      <th>weak_foot</th>\n",
              "      <th>skill_moves</th>\n",
              "      <th>international_reputation</th>\n",
              "      <th>pace</th>\n",
              "      <th>shooting</th>\n",
              "      <th>passing</th>\n",
              "      <th>dribbling</th>\n",
              "      <th>defending</th>\n",
              "      <th>physic</th>\n",
              "      <th>attacking_crossing</th>\n",
              "      <th>attacking_finishing</th>\n",
              "      <th>attacking_heading_accuracy</th>\n",
              "      <th>attacking_short_passing</th>\n",
              "      <th>attacking_volleys</th>\n",
              "      <th>skill_dribbling</th>\n",
              "      <th>skill_curve</th>\n",
              "      <th>skill_fk_accuracy</th>\n",
              "      <th>skill_long_passing</th>\n",
              "      <th>skill_ball_control</th>\n",
              "      <th>movement_acceleration</th>\n",
              "      <th>movement_sprint_speed</th>\n",
              "      <th>movement_agility</th>\n",
              "      <th>movement_reactions</th>\n",
              "      <th>movement_balance</th>\n",
              "      <th>power_shot_power</th>\n",
              "      <th>power_jumping</th>\n",
              "      <th>power_stamina</th>\n",
              "      <th>power_strength</th>\n",
              "      <th>power_long_shots</th>\n",
              "      <th>mentality_aggression</th>\n",
              "      <th>mentality_interceptions</th>\n",
              "      <th>mentality_positioning</th>\n",
              "      <th>mentality_vision</th>\n",
              "      <th>mentality_penalties</th>\n",
              "      <th>defending_marking_awareness</th>\n",
              "      <th>defending_standing_tackle</th>\n",
              "      <th>defending_sliding_tackle</th>\n",
              "      <th>goalkeeping_diving</th>\n",
              "      <th>goalkeeping_handling</th>\n",
              "      <th>goalkeeping_kicking</th>\n",
              "      <th>goalkeeping_positioning</th>\n",
              "      <th>goalkeeping_reflexes</th>\n",
              "    </tr>\n",
              "  </thead>\n",
              "  <tbody>\n",
              "    <tr>\n",
              "      <th>0</th>\n",
              "      <td>15</td>\n",
              "      <td>2</td>\n",
              "      <td>93</td>\n",
              "      <td>95</td>\n",
              "      <td>100500000.0</td>\n",
              "      <td>550000.0</td>\n",
              "      <td>27</td>\n",
              "      <td>169</td>\n",
              "      <td>67</td>\n",
              "      <td>1.0</td>\n",
              "      <td>10.0</td>\n",
              "      <td>2018.0</td>\n",
              "      <td>3</td>\n",
              "      <td>4</td>\n",
              "      <td>5</td>\n",
              "      <td>93.0</td>\n",
              "      <td>89.0</td>\n",
              "      <td>86.0</td>\n",
              "      <td>96.0</td>\n",
              "      <td>27.0</td>\n",
              "      <td>63.0</td>\n",
              "      <td>84</td>\n",
              "      <td>94</td>\n",
              "      <td>71</td>\n",
              "      <td>89</td>\n",
              "      <td>85</td>\n",
              "      <td>96</td>\n",
              "      <td>89</td>\n",
              "      <td>90</td>\n",
              "      <td>76</td>\n",
              "      <td>96</td>\n",
              "      <td>96</td>\n",
              "      <td>90</td>\n",
              "      <td>94</td>\n",
              "      <td>94</td>\n",
              "      <td>95</td>\n",
              "      <td>80</td>\n",
              "      <td>73</td>\n",
              "      <td>77</td>\n",
              "      <td>60</td>\n",
              "      <td>88</td>\n",
              "      <td>48</td>\n",
              "      <td>22</td>\n",
              "      <td>92</td>\n",
              "      <td>90</td>\n",
              "      <td>76</td>\n",
              "      <td>25</td>\n",
              "      <td>21</td>\n",
              "      <td>20</td>\n",
              "      <td>6</td>\n",
              "      <td>11</td>\n",
              "      <td>15</td>\n",
              "      <td>14</td>\n",
              "      <td>8</td>\n",
              "    </tr>\n",
              "    <tr>\n",
              "      <th>1</th>\n",
              "      <td>15</td>\n",
              "      <td>2</td>\n",
              "      <td>92</td>\n",
              "      <td>92</td>\n",
              "      <td>79000000.0</td>\n",
              "      <td>375000.0</td>\n",
              "      <td>29</td>\n",
              "      <td>185</td>\n",
              "      <td>80</td>\n",
              "      <td>1.0</td>\n",
              "      <td>7.0</td>\n",
              "      <td>2018.0</td>\n",
              "      <td>4</td>\n",
              "      <td>5</td>\n",
              "      <td>5</td>\n",
              "      <td>93.0</td>\n",
              "      <td>93.0</td>\n",
              "      <td>81.0</td>\n",
              "      <td>91.0</td>\n",
              "      <td>32.0</td>\n",
              "      <td>79.0</td>\n",
              "      <td>83</td>\n",
              "      <td>95</td>\n",
              "      <td>86</td>\n",
              "      <td>82</td>\n",
              "      <td>87</td>\n",
              "      <td>93</td>\n",
              "      <td>88</td>\n",
              "      <td>79</td>\n",
              "      <td>72</td>\n",
              "      <td>92</td>\n",
              "      <td>91</td>\n",
              "      <td>94</td>\n",
              "      <td>93</td>\n",
              "      <td>90</td>\n",
              "      <td>63</td>\n",
              "      <td>94</td>\n",
              "      <td>94</td>\n",
              "      <td>89</td>\n",
              "      <td>79</td>\n",
              "      <td>93</td>\n",
              "      <td>63</td>\n",
              "      <td>24</td>\n",
              "      <td>91</td>\n",
              "      <td>81</td>\n",
              "      <td>85</td>\n",
              "      <td>22</td>\n",
              "      <td>31</td>\n",
              "      <td>23</td>\n",
              "      <td>7</td>\n",
              "      <td>11</td>\n",
              "      <td>15</td>\n",
              "      <td>14</td>\n",
              "      <td>11</td>\n",
              "    </tr>\n",
              "    <tr>\n",
              "      <th>2</th>\n",
              "      <td>15</td>\n",
              "      <td>2</td>\n",
              "      <td>90</td>\n",
              "      <td>90</td>\n",
              "      <td>54500000.0</td>\n",
              "      <td>275000.0</td>\n",
              "      <td>30</td>\n",
              "      <td>180</td>\n",
              "      <td>80</td>\n",
              "      <td>1.0</td>\n",
              "      <td>10.0</td>\n",
              "      <td>2017.0</td>\n",
              "      <td>2</td>\n",
              "      <td>4</td>\n",
              "      <td>5</td>\n",
              "      <td>93.0</td>\n",
              "      <td>86.0</td>\n",
              "      <td>83.0</td>\n",
              "      <td>92.0</td>\n",
              "      <td>32.0</td>\n",
              "      <td>64.0</td>\n",
              "      <td>80</td>\n",
              "      <td>85</td>\n",
              "      <td>50</td>\n",
              "      <td>86</td>\n",
              "      <td>86</td>\n",
              "      <td>93</td>\n",
              "      <td>85</td>\n",
              "      <td>83</td>\n",
              "      <td>76</td>\n",
              "      <td>90</td>\n",
              "      <td>93</td>\n",
              "      <td>93</td>\n",
              "      <td>93</td>\n",
              "      <td>89</td>\n",
              "      <td>91</td>\n",
              "      <td>86</td>\n",
              "      <td>61</td>\n",
              "      <td>78</td>\n",
              "      <td>65</td>\n",
              "      <td>90</td>\n",
              "      <td>47</td>\n",
              "      <td>39</td>\n",
              "      <td>89</td>\n",
              "      <td>84</td>\n",
              "      <td>80</td>\n",
              "      <td>29</td>\n",
              "      <td>26</td>\n",
              "      <td>26</td>\n",
              "      <td>10</td>\n",
              "      <td>8</td>\n",
              "      <td>11</td>\n",
              "      <td>5</td>\n",
              "      <td>15</td>\n",
              "    </tr>\n",
              "    <tr>\n",
              "      <th>3</th>\n",
              "      <td>15</td>\n",
              "      <td>2</td>\n",
              "      <td>90</td>\n",
              "      <td>90</td>\n",
              "      <td>52500000.0</td>\n",
              "      <td>275000.0</td>\n",
              "      <td>32</td>\n",
              "      <td>195</td>\n",
              "      <td>95</td>\n",
              "      <td>1.0</td>\n",
              "      <td>10.0</td>\n",
              "      <td>2016.0</td>\n",
              "      <td>4</td>\n",
              "      <td>4</td>\n",
              "      <td>5</td>\n",
              "      <td>76.0</td>\n",
              "      <td>91.0</td>\n",
              "      <td>81.0</td>\n",
              "      <td>86.0</td>\n",
              "      <td>34.0</td>\n",
              "      <td>86.0</td>\n",
              "      <td>76</td>\n",
              "      <td>91</td>\n",
              "      <td>76</td>\n",
              "      <td>84</td>\n",
              "      <td>92</td>\n",
              "      <td>88</td>\n",
              "      <td>80</td>\n",
              "      <td>80</td>\n",
              "      <td>76</td>\n",
              "      <td>90</td>\n",
              "      <td>74</td>\n",
              "      <td>77</td>\n",
              "      <td>86</td>\n",
              "      <td>85</td>\n",
              "      <td>41</td>\n",
              "      <td>93</td>\n",
              "      <td>72</td>\n",
              "      <td>78</td>\n",
              "      <td>93</td>\n",
              "      <td>88</td>\n",
              "      <td>84</td>\n",
              "      <td>20</td>\n",
              "      <td>86</td>\n",
              "      <td>83</td>\n",
              "      <td>91</td>\n",
              "      <td>25</td>\n",
              "      <td>41</td>\n",
              "      <td>27</td>\n",
              "      <td>13</td>\n",
              "      <td>15</td>\n",
              "      <td>10</td>\n",
              "      <td>9</td>\n",
              "      <td>12</td>\n",
              "    </tr>\n",
              "    <tr>\n",
              "      <th>4</th>\n",
              "      <td>15</td>\n",
              "      <td>2</td>\n",
              "      <td>90</td>\n",
              "      <td>90</td>\n",
              "      <td>63500000.0</td>\n",
              "      <td>300000.0</td>\n",
              "      <td>28</td>\n",
              "      <td>193</td>\n",
              "      <td>92</td>\n",
              "      <td>1.0</td>\n",
              "      <td>1.0</td>\n",
              "      <td>2019.0</td>\n",
              "      <td>4</td>\n",
              "      <td>1</td>\n",
              "      <td>5</td>\n",
              "      <td>NaN</td>\n",
              "      <td>NaN</td>\n",
              "      <td>NaN</td>\n",
              "      <td>NaN</td>\n",
              "      <td>NaN</td>\n",
              "      <td>NaN</td>\n",
              "      <td>25</td>\n",
              "      <td>25</td>\n",
              "      <td>25</td>\n",
              "      <td>42</td>\n",
              "      <td>25</td>\n",
              "      <td>25</td>\n",
              "      <td>25</td>\n",
              "      <td>25</td>\n",
              "      <td>41</td>\n",
              "      <td>31</td>\n",
              "      <td>58</td>\n",
              "      <td>61</td>\n",
              "      <td>43</td>\n",
              "      <td>89</td>\n",
              "      <td>35</td>\n",
              "      <td>42</td>\n",
              "      <td>78</td>\n",
              "      <td>44</td>\n",
              "      <td>83</td>\n",
              "      <td>25</td>\n",
              "      <td>29</td>\n",
              "      <td>30</td>\n",
              "      <td>25</td>\n",
              "      <td>20</td>\n",
              "      <td>37</td>\n",
              "      <td>25</td>\n",
              "      <td>25</td>\n",
              "      <td>25</td>\n",
              "      <td>87</td>\n",
              "      <td>85</td>\n",
              "      <td>92</td>\n",
              "      <td>90</td>\n",
              "      <td>86</td>\n",
              "    </tr>\n",
              "  </tbody>\n",
              "</table>\n",
              "</div>\n",
              "    <div class=\"colab-df-buttons\">\n",
              "\n",
              "  <div class=\"colab-df-container\">\n",
              "    <button class=\"colab-df-convert\" onclick=\"convertToInteractive('df-cad257ea-eb72-4ca2-98d0-c03ff9ef7084')\"\n",
              "            title=\"Convert this dataframe to an interactive table.\"\n",
              "            style=\"display:none;\">\n",
              "\n",
              "  <svg xmlns=\"http://www.w3.org/2000/svg\" height=\"24px\" viewBox=\"0 -960 960 960\">\n",
              "    <path d=\"M120-120v-720h720v720H120Zm60-500h600v-160H180v160Zm220 220h160v-160H400v160Zm0 220h160v-160H400v160ZM180-400h160v-160H180v160Zm440 0h160v-160H620v160ZM180-180h160v-160H180v160Zm440 0h160v-160H620v160Z\"/>\n",
              "  </svg>\n",
              "    </button>\n",
              "\n",
              "  <style>\n",
              "    .colab-df-container {\n",
              "      display:flex;\n",
              "      gap: 12px;\n",
              "    }\n",
              "\n",
              "    .colab-df-convert {\n",
              "      background-color: #E8F0FE;\n",
              "      border: none;\n",
              "      border-radius: 50%;\n",
              "      cursor: pointer;\n",
              "      display: none;\n",
              "      fill: #1967D2;\n",
              "      height: 32px;\n",
              "      padding: 0 0 0 0;\n",
              "      width: 32px;\n",
              "    }\n",
              "\n",
              "    .colab-df-convert:hover {\n",
              "      background-color: #E2EBFA;\n",
              "      box-shadow: 0px 1px 2px rgba(60, 64, 67, 0.3), 0px 1px 3px 1px rgba(60, 64, 67, 0.15);\n",
              "      fill: #174EA6;\n",
              "    }\n",
              "\n",
              "    .colab-df-buttons div {\n",
              "      margin-bottom: 4px;\n",
              "    }\n",
              "\n",
              "    [theme=dark] .colab-df-convert {\n",
              "      background-color: #3B4455;\n",
              "      fill: #D2E3FC;\n",
              "    }\n",
              "\n",
              "    [theme=dark] .colab-df-convert:hover {\n",
              "      background-color: #434B5C;\n",
              "      box-shadow: 0px 1px 3px 1px rgba(0, 0, 0, 0.15);\n",
              "      filter: drop-shadow(0px 1px 2px rgba(0, 0, 0, 0.3));\n",
              "      fill: #FFFFFF;\n",
              "    }\n",
              "  </style>\n",
              "\n",
              "    <script>\n",
              "      const buttonEl =\n",
              "        document.querySelector('#df-cad257ea-eb72-4ca2-98d0-c03ff9ef7084 button.colab-df-convert');\n",
              "      buttonEl.style.display =\n",
              "        google.colab.kernel.accessAllowed ? 'block' : 'none';\n",
              "\n",
              "      async function convertToInteractive(key) {\n",
              "        const element = document.querySelector('#df-cad257ea-eb72-4ca2-98d0-c03ff9ef7084');\n",
              "        const dataTable =\n",
              "          await google.colab.kernel.invokeFunction('convertToInteractive',\n",
              "                                                    [key], {});\n",
              "        if (!dataTable) return;\n",
              "\n",
              "        const docLinkHtml = 'Like what you see? Visit the ' +\n",
              "          '<a target=\"_blank\" href=https://colab.research.google.com/notebooks/data_table.ipynb>data table notebook</a>'\n",
              "          + ' to learn more about interactive tables.';\n",
              "        element.innerHTML = '';\n",
              "        dataTable['output_type'] = 'display_data';\n",
              "        await google.colab.output.renderOutput(dataTable, element);\n",
              "        const docLink = document.createElement('div');\n",
              "        docLink.innerHTML = docLinkHtml;\n",
              "        element.appendChild(docLink);\n",
              "      }\n",
              "    </script>\n",
              "  </div>\n",
              "\n",
              "\n",
              "<div id=\"df-3cad3236-1829-4b1c-b615-51f8bd0c0048\">\n",
              "  <button class=\"colab-df-quickchart\" onclick=\"quickchart('df-3cad3236-1829-4b1c-b615-51f8bd0c0048')\"\n",
              "            title=\"Suggest charts\"\n",
              "            style=\"display:none;\">\n",
              "\n",
              "<svg xmlns=\"http://www.w3.org/2000/svg\" height=\"24px\"viewBox=\"0 0 24 24\"\n",
              "     width=\"24px\">\n",
              "    <g>\n",
              "        <path d=\"M19 3H5c-1.1 0-2 .9-2 2v14c0 1.1.9 2 2 2h14c1.1 0 2-.9 2-2V5c0-1.1-.9-2-2-2zM9 17H7v-7h2v7zm4 0h-2V7h2v10zm4 0h-2v-4h2v4z\"/>\n",
              "    </g>\n",
              "</svg>\n",
              "  </button>\n",
              "\n",
              "<style>\n",
              "  .colab-df-quickchart {\n",
              "      --bg-color: #E8F0FE;\n",
              "      --fill-color: #1967D2;\n",
              "      --hover-bg-color: #E2EBFA;\n",
              "      --hover-fill-color: #174EA6;\n",
              "      --disabled-fill-color: #AAA;\n",
              "      --disabled-bg-color: #DDD;\n",
              "  }\n",
              "\n",
              "  [theme=dark] .colab-df-quickchart {\n",
              "      --bg-color: #3B4455;\n",
              "      --fill-color: #D2E3FC;\n",
              "      --hover-bg-color: #434B5C;\n",
              "      --hover-fill-color: #FFFFFF;\n",
              "      --disabled-bg-color: #3B4455;\n",
              "      --disabled-fill-color: #666;\n",
              "  }\n",
              "\n",
              "  .colab-df-quickchart {\n",
              "    background-color: var(--bg-color);\n",
              "    border: none;\n",
              "    border-radius: 50%;\n",
              "    cursor: pointer;\n",
              "    display: none;\n",
              "    fill: var(--fill-color);\n",
              "    height: 32px;\n",
              "    padding: 0;\n",
              "    width: 32px;\n",
              "  }\n",
              "\n",
              "  .colab-df-quickchart:hover {\n",
              "    background-color: var(--hover-bg-color);\n",
              "    box-shadow: 0 1px 2px rgba(60, 64, 67, 0.3), 0 1px 3px 1px rgba(60, 64, 67, 0.15);\n",
              "    fill: var(--button-hover-fill-color);\n",
              "  }\n",
              "\n",
              "  .colab-df-quickchart-complete:disabled,\n",
              "  .colab-df-quickchart-complete:disabled:hover {\n",
              "    background-color: var(--disabled-bg-color);\n",
              "    fill: var(--disabled-fill-color);\n",
              "    box-shadow: none;\n",
              "  }\n",
              "\n",
              "  .colab-df-spinner {\n",
              "    border: 2px solid var(--fill-color);\n",
              "    border-color: transparent;\n",
              "    border-bottom-color: var(--fill-color);\n",
              "    animation:\n",
              "      spin 1s steps(1) infinite;\n",
              "  }\n",
              "\n",
              "  @keyframes spin {\n",
              "    0% {\n",
              "      border-color: transparent;\n",
              "      border-bottom-color: var(--fill-color);\n",
              "      border-left-color: var(--fill-color);\n",
              "    }\n",
              "    20% {\n",
              "      border-color: transparent;\n",
              "      border-left-color: var(--fill-color);\n",
              "      border-top-color: var(--fill-color);\n",
              "    }\n",
              "    30% {\n",
              "      border-color: transparent;\n",
              "      border-left-color: var(--fill-color);\n",
              "      border-top-color: var(--fill-color);\n",
              "      border-right-color: var(--fill-color);\n",
              "    }\n",
              "    40% {\n",
              "      border-color: transparent;\n",
              "      border-right-color: var(--fill-color);\n",
              "      border-top-color: var(--fill-color);\n",
              "    }\n",
              "    60% {\n",
              "      border-color: transparent;\n",
              "      border-right-color: var(--fill-color);\n",
              "    }\n",
              "    80% {\n",
              "      border-color: transparent;\n",
              "      border-right-color: var(--fill-color);\n",
              "      border-bottom-color: var(--fill-color);\n",
              "    }\n",
              "    90% {\n",
              "      border-color: transparent;\n",
              "      border-bottom-color: var(--fill-color);\n",
              "    }\n",
              "  }\n",
              "</style>\n",
              "\n",
              "  <script>\n",
              "    async function quickchart(key) {\n",
              "      const quickchartButtonEl =\n",
              "        document.querySelector('#' + key + ' button');\n",
              "      quickchartButtonEl.disabled = true;  // To prevent multiple clicks.\n",
              "      quickchartButtonEl.classList.add('colab-df-spinner');\n",
              "      try {\n",
              "        const charts = await google.colab.kernel.invokeFunction(\n",
              "            'suggestCharts', [key], {});\n",
              "      } catch (error) {\n",
              "        console.error('Error during call to suggestCharts:', error);\n",
              "      }\n",
              "      quickchartButtonEl.classList.remove('colab-df-spinner');\n",
              "      quickchartButtonEl.classList.add('colab-df-quickchart-complete');\n",
              "    }\n",
              "    (() => {\n",
              "      let quickchartButtonEl =\n",
              "        document.querySelector('#df-3cad3236-1829-4b1c-b615-51f8bd0c0048 button');\n",
              "      quickchartButtonEl.style.display =\n",
              "        google.colab.kernel.accessAllowed ? 'block' : 'none';\n",
              "    })();\n",
              "  </script>\n",
              "</div>\n",
              "\n",
              "  <div id=\"id_6fafe33d-cbc7-4ddc-8982-caeb06522594\">\n",
              "    <style>\n",
              "      .colab-df-generate {\n",
              "        background-color: #E8F0FE;\n",
              "        border: none;\n",
              "        border-radius: 50%;\n",
              "        cursor: pointer;\n",
              "        display: none;\n",
              "        fill: #1967D2;\n",
              "        height: 32px;\n",
              "        padding: 0 0 0 0;\n",
              "        width: 32px;\n",
              "      }\n",
              "\n",
              "      .colab-df-generate:hover {\n",
              "        background-color: #E2EBFA;\n",
              "        box-shadow: 0px 1px 2px rgba(60, 64, 67, 0.3), 0px 1px 3px 1px rgba(60, 64, 67, 0.15);\n",
              "        fill: #174EA6;\n",
              "      }\n",
              "\n",
              "      [theme=dark] .colab-df-generate {\n",
              "        background-color: #3B4455;\n",
              "        fill: #D2E3FC;\n",
              "      }\n",
              "\n",
              "      [theme=dark] .colab-df-generate:hover {\n",
              "        background-color: #434B5C;\n",
              "        box-shadow: 0px 1px 3px 1px rgba(0, 0, 0, 0.15);\n",
              "        filter: drop-shadow(0px 1px 2px rgba(0, 0, 0, 0.3));\n",
              "        fill: #FFFFFF;\n",
              "      }\n",
              "    </style>\n",
              "    <button class=\"colab-df-generate\" onclick=\"generateWithVariable('male_players')\"\n",
              "            title=\"Generate code using this dataframe.\"\n",
              "            style=\"display:none;\">\n",
              "\n",
              "  <svg xmlns=\"http://www.w3.org/2000/svg\" height=\"24px\"viewBox=\"0 0 24 24\"\n",
              "       width=\"24px\">\n",
              "    <path d=\"M7,19H8.4L18.45,9,17,7.55,7,17.6ZM5,21V16.75L18.45,3.32a2,2,0,0,1,2.83,0l1.4,1.43a1.91,1.91,0,0,1,.58,1.4,1.91,1.91,0,0,1-.58,1.4L9.25,21ZM18.45,9,17,7.55Zm-12,3A5.31,5.31,0,0,0,4.9,8.1,5.31,5.31,0,0,0,1,6.5,5.31,5.31,0,0,0,4.9,4.9,5.31,5.31,0,0,0,6.5,1,5.31,5.31,0,0,0,8.1,4.9,5.31,5.31,0,0,0,12,6.5,5.46,5.46,0,0,0,6.5,12Z\"/>\n",
              "  </svg>\n",
              "    </button>\n",
              "    <script>\n",
              "      (() => {\n",
              "      const buttonEl =\n",
              "        document.querySelector('#id_6fafe33d-cbc7-4ddc-8982-caeb06522594 button.colab-df-generate');\n",
              "      buttonEl.style.display =\n",
              "        google.colab.kernel.accessAllowed ? 'block' : 'none';\n",
              "\n",
              "      buttonEl.onclick = () => {\n",
              "        google.colab.notebook.generateWithVariable('male_players');\n",
              "      }\n",
              "      })();\n",
              "    </script>\n",
              "  </div>\n",
              "\n",
              "    </div>\n",
              "  </div>\n"
            ],
            "application/vnd.google.colaboratory.intrinsic+json": {
              "type": "dataframe",
              "variable_name": "male_players"
            }
          },
          "metadata": {},
          "execution_count": 14
        }
      ],
      "source": [
        "male_players = male_players[num_cols_for_male_players].head()\n",
        "male_players"
      ]
    },
    {
      "cell_type": "code",
      "execution_count": 15,
      "id": "wESYsDSynAZA",
      "metadata": {
        "colab": {
          "base_uri": "https://localhost:8080/",
          "height": 226
        },
        "id": "wESYsDSynAZA",
        "outputId": "16fb1498-7999-4816-e78f-c404255fe68d"
      },
      "outputs": [
        {
          "output_type": "execute_result",
          "data": {
            "text/plain": [
              "   overall_rating  potential    value_eur  wage_eur  age  height_cm  \\\n",
              "0              93         93   78000000.0  320000.0   34        170   \n",
              "1              92         92  119500000.0  270000.0   32        185   \n",
              "2              91         91   45000000.0  270000.0   36        187   \n",
              "3              91         91  129000000.0  270000.0   29        175   \n",
              "4              91         91  125500000.0  350000.0   30        181   \n",
              "\n",
              "   weight_kg  club_team_id  league_level  club_jersey_number  \\\n",
              "0         72          73.0           1.0                30.0   \n",
              "1         81          21.0           1.0                 9.0   \n",
              "2         83          11.0           1.0                 7.0   \n",
              "3         68          73.0           1.0                10.0   \n",
              "4         70          10.0           1.0                17.0   \n",
              "\n",
              "   club_contract_valid_until  nationality_id  weak_foot  skill_moves  \\\n",
              "0                     2023.0              52          4            4   \n",
              "1                     2023.0              37          4            4   \n",
              "2                     2023.0              38          4            5   \n",
              "3                     2025.0              54          5            5   \n",
              "4                     2025.0               7          5            4   \n",
              "\n",
              "   international_reputation  release_clause_eur  pace  shooting  passing  \\\n",
              "0                         5         144300000.0  85.0      92.0     91.0   \n",
              "1                         5         197200000.0  78.0      92.0     79.0   \n",
              "2                         5          83300000.0  87.0      94.0     80.0   \n",
              "3                         5         238700000.0  91.0      83.0     86.0   \n",
              "4                         4         232200000.0  76.0      86.0     93.0   \n",
              "\n",
              "   dribbling  defending  physic  attacking_crossing  attacking_finishing  \\\n",
              "0       95.0       34.0    65.0                  85                   95   \n",
              "1       86.0       44.0    82.0                  71                   95   \n",
              "2       88.0       34.0    75.0                  87                   95   \n",
              "3       94.0       37.0    63.0                  85                   83   \n",
              "4       88.0       64.0    78.0                  94                   82   \n",
              "\n",
              "   attacking_heading_accuracy  attacking_short_passing  attacking_volleys  \\\n",
              "0                          70                       91                 88   \n",
              "1                          90                       85                 89   \n",
              "2                          90                       80                 86   \n",
              "3                          63                       86                 86   \n",
              "4                          55                       94                 82   \n",
              "\n",
              "   skill_dribbling  skill_curve  skill_fk_accuracy  skill_long_passing  \\\n",
              "0               96           93                 94                  91   \n",
              "1               85           79                 85                  70   \n",
              "2               88           81                 84                  77   \n",
              "3               95           88                 87                  81   \n",
              "4               88           85                 83                  93   \n",
              "\n",
              "   skill_ball_control  movement_acceleration  movement_sprint_speed  \\\n",
              "0                  96                     91                     80   \n",
              "1                  88                     77                     79   \n",
              "2                  88                     85                     88   \n",
              "3                  95                     93                     89   \n",
              "4                  91                     76                     76   \n",
              "\n",
              "   movement_agility  movement_reactions  movement_balance  power_shot_power  \\\n",
              "0                91                  94                95                86   \n",
              "1                77                  93                82                90   \n",
              "2                86                  94                74                94   \n",
              "3                96                  89                84                80   \n",
              "4                79                  91                78                91   \n",
              "\n",
              "   power_jumping  power_stamina  power_strength  power_long_shots  \\\n",
              "0             68             72              69                94   \n",
              "1             85             76              86                87   \n",
              "2             95             77              77                93   \n",
              "3             64             81              53                81   \n",
              "4             63             89              74                91   \n",
              "\n",
              "   mentality_aggression  mentality_interceptions  mentality_positioning  \\\n",
              "0                    44                       40                     93   \n",
              "1                    81                       49                     95   \n",
              "2                    63                       29                     95   \n",
              "3                    63                       37                     86   \n",
              "4                    76                       66                     88   \n",
              "\n",
              "   mentality_vision  mentality_penalties  mentality_composure  \\\n",
              "0                95                   75                   96   \n",
              "1                81                   90                   88   \n",
              "2                76                   88                   95   \n",
              "3                90                   93                   93   \n",
              "4                94                   83                   89   \n",
              "\n",
              "   defending_marking_awareness  defending_standing_tackle  \\\n",
              "0                           20                         35   \n",
              "1                           35                         42   \n",
              "2                           24                         32   \n",
              "3                           35                         32   \n",
              "4                           68                         65   \n",
              "\n",
              "   defending_sliding_tackle  goalkeeping_diving  goalkeeping_handling  \\\n",
              "0                        24                   6                    11   \n",
              "1                        19                  15                     6   \n",
              "2                        24                   7                    11   \n",
              "3                        29                   9                     9   \n",
              "4                        53                  15                    13   \n",
              "\n",
              "   goalkeeping_kicking  goalkeeping_positioning  goalkeeping_reflexes  \n",
              "0                   15                       14                     8  \n",
              "1                   12                        8                    10  \n",
              "2                   15                       14                    11  \n",
              "3                   15                       15                    11  \n",
              "4                    5                       10                    13  "
            ],
            "text/html": [
              "\n",
              "  <div id=\"df-1dade9f3-f9e6-4215-a37f-403847be0ac8\" class=\"colab-df-container\">\n",
              "    <div>\n",
              "<style scoped>\n",
              "    .dataframe tbody tr th:only-of-type {\n",
              "        vertical-align: middle;\n",
              "    }\n",
              "\n",
              "    .dataframe tbody tr th {\n",
              "        vertical-align: top;\n",
              "    }\n",
              "\n",
              "    .dataframe thead th {\n",
              "        text-align: right;\n",
              "    }\n",
              "</style>\n",
              "<table border=\"1\" class=\"dataframe\">\n",
              "  <thead>\n",
              "    <tr style=\"text-align: right;\">\n",
              "      <th></th>\n",
              "      <th>overall_rating</th>\n",
              "      <th>potential</th>\n",
              "      <th>value_eur</th>\n",
              "      <th>wage_eur</th>\n",
              "      <th>age</th>\n",
              "      <th>height_cm</th>\n",
              "      <th>weight_kg</th>\n",
              "      <th>club_team_id</th>\n",
              "      <th>league_level</th>\n",
              "      <th>club_jersey_number</th>\n",
              "      <th>club_contract_valid_until</th>\n",
              "      <th>nationality_id</th>\n",
              "      <th>weak_foot</th>\n",
              "      <th>skill_moves</th>\n",
              "      <th>international_reputation</th>\n",
              "      <th>release_clause_eur</th>\n",
              "      <th>pace</th>\n",
              "      <th>shooting</th>\n",
              "      <th>passing</th>\n",
              "      <th>dribbling</th>\n",
              "      <th>defending</th>\n",
              "      <th>physic</th>\n",
              "      <th>attacking_crossing</th>\n",
              "      <th>attacking_finishing</th>\n",
              "      <th>attacking_heading_accuracy</th>\n",
              "      <th>attacking_short_passing</th>\n",
              "      <th>attacking_volleys</th>\n",
              "      <th>skill_dribbling</th>\n",
              "      <th>skill_curve</th>\n",
              "      <th>skill_fk_accuracy</th>\n",
              "      <th>skill_long_passing</th>\n",
              "      <th>skill_ball_control</th>\n",
              "      <th>movement_acceleration</th>\n",
              "      <th>movement_sprint_speed</th>\n",
              "      <th>movement_agility</th>\n",
              "      <th>movement_reactions</th>\n",
              "      <th>movement_balance</th>\n",
              "      <th>power_shot_power</th>\n",
              "      <th>power_jumping</th>\n",
              "      <th>power_stamina</th>\n",
              "      <th>power_strength</th>\n",
              "      <th>power_long_shots</th>\n",
              "      <th>mentality_aggression</th>\n",
              "      <th>mentality_interceptions</th>\n",
              "      <th>mentality_positioning</th>\n",
              "      <th>mentality_vision</th>\n",
              "      <th>mentality_penalties</th>\n",
              "      <th>mentality_composure</th>\n",
              "      <th>defending_marking_awareness</th>\n",
              "      <th>defending_standing_tackle</th>\n",
              "      <th>defending_sliding_tackle</th>\n",
              "      <th>goalkeeping_diving</th>\n",
              "      <th>goalkeeping_handling</th>\n",
              "      <th>goalkeeping_kicking</th>\n",
              "      <th>goalkeeping_positioning</th>\n",
              "      <th>goalkeeping_reflexes</th>\n",
              "    </tr>\n",
              "  </thead>\n",
              "  <tbody>\n",
              "    <tr>\n",
              "      <th>0</th>\n",
              "      <td>93</td>\n",
              "      <td>93</td>\n",
              "      <td>78000000.0</td>\n",
              "      <td>320000.0</td>\n",
              "      <td>34</td>\n",
              "      <td>170</td>\n",
              "      <td>72</td>\n",
              "      <td>73.0</td>\n",
              "      <td>1.0</td>\n",
              "      <td>30.0</td>\n",
              "      <td>2023.0</td>\n",
              "      <td>52</td>\n",
              "      <td>4</td>\n",
              "      <td>4</td>\n",
              "      <td>5</td>\n",
              "      <td>144300000.0</td>\n",
              "      <td>85.0</td>\n",
              "      <td>92.0</td>\n",
              "      <td>91.0</td>\n",
              "      <td>95.0</td>\n",
              "      <td>34.0</td>\n",
              "      <td>65.0</td>\n",
              "      <td>85</td>\n",
              "      <td>95</td>\n",
              "      <td>70</td>\n",
              "      <td>91</td>\n",
              "      <td>88</td>\n",
              "      <td>96</td>\n",
              "      <td>93</td>\n",
              "      <td>94</td>\n",
              "      <td>91</td>\n",
              "      <td>96</td>\n",
              "      <td>91</td>\n",
              "      <td>80</td>\n",
              "      <td>91</td>\n",
              "      <td>94</td>\n",
              "      <td>95</td>\n",
              "      <td>86</td>\n",
              "      <td>68</td>\n",
              "      <td>72</td>\n",
              "      <td>69</td>\n",
              "      <td>94</td>\n",
              "      <td>44</td>\n",
              "      <td>40</td>\n",
              "      <td>93</td>\n",
              "      <td>95</td>\n",
              "      <td>75</td>\n",
              "      <td>96</td>\n",
              "      <td>20</td>\n",
              "      <td>35</td>\n",
              "      <td>24</td>\n",
              "      <td>6</td>\n",
              "      <td>11</td>\n",
              "      <td>15</td>\n",
              "      <td>14</td>\n",
              "      <td>8</td>\n",
              "    </tr>\n",
              "    <tr>\n",
              "      <th>1</th>\n",
              "      <td>92</td>\n",
              "      <td>92</td>\n",
              "      <td>119500000.0</td>\n",
              "      <td>270000.0</td>\n",
              "      <td>32</td>\n",
              "      <td>185</td>\n",
              "      <td>81</td>\n",
              "      <td>21.0</td>\n",
              "      <td>1.0</td>\n",
              "      <td>9.0</td>\n",
              "      <td>2023.0</td>\n",
              "      <td>37</td>\n",
              "      <td>4</td>\n",
              "      <td>4</td>\n",
              "      <td>5</td>\n",
              "      <td>197200000.0</td>\n",
              "      <td>78.0</td>\n",
              "      <td>92.0</td>\n",
              "      <td>79.0</td>\n",
              "      <td>86.0</td>\n",
              "      <td>44.0</td>\n",
              "      <td>82.0</td>\n",
              "      <td>71</td>\n",
              "      <td>95</td>\n",
              "      <td>90</td>\n",
              "      <td>85</td>\n",
              "      <td>89</td>\n",
              "      <td>85</td>\n",
              "      <td>79</td>\n",
              "      <td>85</td>\n",
              "      <td>70</td>\n",
              "      <td>88</td>\n",
              "      <td>77</td>\n",
              "      <td>79</td>\n",
              "      <td>77</td>\n",
              "      <td>93</td>\n",
              "      <td>82</td>\n",
              "      <td>90</td>\n",
              "      <td>85</td>\n",
              "      <td>76</td>\n",
              "      <td>86</td>\n",
              "      <td>87</td>\n",
              "      <td>81</td>\n",
              "      <td>49</td>\n",
              "      <td>95</td>\n",
              "      <td>81</td>\n",
              "      <td>90</td>\n",
              "      <td>88</td>\n",
              "      <td>35</td>\n",
              "      <td>42</td>\n",
              "      <td>19</td>\n",
              "      <td>15</td>\n",
              "      <td>6</td>\n",
              "      <td>12</td>\n",
              "      <td>8</td>\n",
              "      <td>10</td>\n",
              "    </tr>\n",
              "    <tr>\n",
              "      <th>2</th>\n",
              "      <td>91</td>\n",
              "      <td>91</td>\n",
              "      <td>45000000.0</td>\n",
              "      <td>270000.0</td>\n",
              "      <td>36</td>\n",
              "      <td>187</td>\n",
              "      <td>83</td>\n",
              "      <td>11.0</td>\n",
              "      <td>1.0</td>\n",
              "      <td>7.0</td>\n",
              "      <td>2023.0</td>\n",
              "      <td>38</td>\n",
              "      <td>4</td>\n",
              "      <td>5</td>\n",
              "      <td>5</td>\n",
              "      <td>83300000.0</td>\n",
              "      <td>87.0</td>\n",
              "      <td>94.0</td>\n",
              "      <td>80.0</td>\n",
              "      <td>88.0</td>\n",
              "      <td>34.0</td>\n",
              "      <td>75.0</td>\n",
              "      <td>87</td>\n",
              "      <td>95</td>\n",
              "      <td>90</td>\n",
              "      <td>80</td>\n",
              "      <td>86</td>\n",
              "      <td>88</td>\n",
              "      <td>81</td>\n",
              "      <td>84</td>\n",
              "      <td>77</td>\n",
              "      <td>88</td>\n",
              "      <td>85</td>\n",
              "      <td>88</td>\n",
              "      <td>86</td>\n",
              "      <td>94</td>\n",
              "      <td>74</td>\n",
              "      <td>94</td>\n",
              "      <td>95</td>\n",
              "      <td>77</td>\n",
              "      <td>77</td>\n",
              "      <td>93</td>\n",
              "      <td>63</td>\n",
              "      <td>29</td>\n",
              "      <td>95</td>\n",
              "      <td>76</td>\n",
              "      <td>88</td>\n",
              "      <td>95</td>\n",
              "      <td>24</td>\n",
              "      <td>32</td>\n",
              "      <td>24</td>\n",
              "      <td>7</td>\n",
              "      <td>11</td>\n",
              "      <td>15</td>\n",
              "      <td>14</td>\n",
              "      <td>11</td>\n",
              "    </tr>\n",
              "    <tr>\n",
              "      <th>3</th>\n",
              "      <td>91</td>\n",
              "      <td>91</td>\n",
              "      <td>129000000.0</td>\n",
              "      <td>270000.0</td>\n",
              "      <td>29</td>\n",
              "      <td>175</td>\n",
              "      <td>68</td>\n",
              "      <td>73.0</td>\n",
              "      <td>1.0</td>\n",
              "      <td>10.0</td>\n",
              "      <td>2025.0</td>\n",
              "      <td>54</td>\n",
              "      <td>5</td>\n",
              "      <td>5</td>\n",
              "      <td>5</td>\n",
              "      <td>238700000.0</td>\n",
              "      <td>91.0</td>\n",
              "      <td>83.0</td>\n",
              "      <td>86.0</td>\n",
              "      <td>94.0</td>\n",
              "      <td>37.0</td>\n",
              "      <td>63.0</td>\n",
              "      <td>85</td>\n",
              "      <td>83</td>\n",
              "      <td>63</td>\n",
              "      <td>86</td>\n",
              "      <td>86</td>\n",
              "      <td>95</td>\n",
              "      <td>88</td>\n",
              "      <td>87</td>\n",
              "      <td>81</td>\n",
              "      <td>95</td>\n",
              "      <td>93</td>\n",
              "      <td>89</td>\n",
              "      <td>96</td>\n",
              "      <td>89</td>\n",
              "      <td>84</td>\n",
              "      <td>80</td>\n",
              "      <td>64</td>\n",
              "      <td>81</td>\n",
              "      <td>53</td>\n",
              "      <td>81</td>\n",
              "      <td>63</td>\n",
              "      <td>37</td>\n",
              "      <td>86</td>\n",
              "      <td>90</td>\n",
              "      <td>93</td>\n",
              "      <td>93</td>\n",
              "      <td>35</td>\n",
              "      <td>32</td>\n",
              "      <td>29</td>\n",
              "      <td>9</td>\n",
              "      <td>9</td>\n",
              "      <td>15</td>\n",
              "      <td>15</td>\n",
              "      <td>11</td>\n",
              "    </tr>\n",
              "    <tr>\n",
              "      <th>4</th>\n",
              "      <td>91</td>\n",
              "      <td>91</td>\n",
              "      <td>125500000.0</td>\n",
              "      <td>350000.0</td>\n",
              "      <td>30</td>\n",
              "      <td>181</td>\n",
              "      <td>70</td>\n",
              "      <td>10.0</td>\n",
              "      <td>1.0</td>\n",
              "      <td>17.0</td>\n",
              "      <td>2025.0</td>\n",
              "      <td>7</td>\n",
              "      <td>5</td>\n",
              "      <td>4</td>\n",
              "      <td>4</td>\n",
              "      <td>232200000.0</td>\n",
              "      <td>76.0</td>\n",
              "      <td>86.0</td>\n",
              "      <td>93.0</td>\n",
              "      <td>88.0</td>\n",
              "      <td>64.0</td>\n",
              "      <td>78.0</td>\n",
              "      <td>94</td>\n",
              "      <td>82</td>\n",
              "      <td>55</td>\n",
              "      <td>94</td>\n",
              "      <td>82</td>\n",
              "      <td>88</td>\n",
              "      <td>85</td>\n",
              "      <td>83</td>\n",
              "      <td>93</td>\n",
              "      <td>91</td>\n",
              "      <td>76</td>\n",
              "      <td>76</td>\n",
              "      <td>79</td>\n",
              "      <td>91</td>\n",
              "      <td>78</td>\n",
              "      <td>91</td>\n",
              "      <td>63</td>\n",
              "      <td>89</td>\n",
              "      <td>74</td>\n",
              "      <td>91</td>\n",
              "      <td>76</td>\n",
              "      <td>66</td>\n",
              "      <td>88</td>\n",
              "      <td>94</td>\n",
              "      <td>83</td>\n",
              "      <td>89</td>\n",
              "      <td>68</td>\n",
              "      <td>65</td>\n",
              "      <td>53</td>\n",
              "      <td>15</td>\n",
              "      <td>13</td>\n",
              "      <td>5</td>\n",
              "      <td>10</td>\n",
              "      <td>13</td>\n",
              "    </tr>\n",
              "  </tbody>\n",
              "</table>\n",
              "</div>\n",
              "    <div class=\"colab-df-buttons\">\n",
              "\n",
              "  <div class=\"colab-df-container\">\n",
              "    <button class=\"colab-df-convert\" onclick=\"convertToInteractive('df-1dade9f3-f9e6-4215-a37f-403847be0ac8')\"\n",
              "            title=\"Convert this dataframe to an interactive table.\"\n",
              "            style=\"display:none;\">\n",
              "\n",
              "  <svg xmlns=\"http://www.w3.org/2000/svg\" height=\"24px\" viewBox=\"0 -960 960 960\">\n",
              "    <path d=\"M120-120v-720h720v720H120Zm60-500h600v-160H180v160Zm220 220h160v-160H400v160Zm0 220h160v-160H400v160ZM180-400h160v-160H180v160Zm440 0h160v-160H620v160ZM180-180h160v-160H180v160Zm440 0h160v-160H620v160Z\"/>\n",
              "  </svg>\n",
              "    </button>\n",
              "\n",
              "  <style>\n",
              "    .colab-df-container {\n",
              "      display:flex;\n",
              "      gap: 12px;\n",
              "    }\n",
              "\n",
              "    .colab-df-convert {\n",
              "      background-color: #E8F0FE;\n",
              "      border: none;\n",
              "      border-radius: 50%;\n",
              "      cursor: pointer;\n",
              "      display: none;\n",
              "      fill: #1967D2;\n",
              "      height: 32px;\n",
              "      padding: 0 0 0 0;\n",
              "      width: 32px;\n",
              "    }\n",
              "\n",
              "    .colab-df-convert:hover {\n",
              "      background-color: #E2EBFA;\n",
              "      box-shadow: 0px 1px 2px rgba(60, 64, 67, 0.3), 0px 1px 3px 1px rgba(60, 64, 67, 0.15);\n",
              "      fill: #174EA6;\n",
              "    }\n",
              "\n",
              "    .colab-df-buttons div {\n",
              "      margin-bottom: 4px;\n",
              "    }\n",
              "\n",
              "    [theme=dark] .colab-df-convert {\n",
              "      background-color: #3B4455;\n",
              "      fill: #D2E3FC;\n",
              "    }\n",
              "\n",
              "    [theme=dark] .colab-df-convert:hover {\n",
              "      background-color: #434B5C;\n",
              "      box-shadow: 0px 1px 3px 1px rgba(0, 0, 0, 0.15);\n",
              "      filter: drop-shadow(0px 1px 2px rgba(0, 0, 0, 0.3));\n",
              "      fill: #FFFFFF;\n",
              "    }\n",
              "  </style>\n",
              "\n",
              "    <script>\n",
              "      const buttonEl =\n",
              "        document.querySelector('#df-1dade9f3-f9e6-4215-a37f-403847be0ac8 button.colab-df-convert');\n",
              "      buttonEl.style.display =\n",
              "        google.colab.kernel.accessAllowed ? 'block' : 'none';\n",
              "\n",
              "      async function convertToInteractive(key) {\n",
              "        const element = document.querySelector('#df-1dade9f3-f9e6-4215-a37f-403847be0ac8');\n",
              "        const dataTable =\n",
              "          await google.colab.kernel.invokeFunction('convertToInteractive',\n",
              "                                                    [key], {});\n",
              "        if (!dataTable) return;\n",
              "\n",
              "        const docLinkHtml = 'Like what you see? Visit the ' +\n",
              "          '<a target=\"_blank\" href=https://colab.research.google.com/notebooks/data_table.ipynb>data table notebook</a>'\n",
              "          + ' to learn more about interactive tables.';\n",
              "        element.innerHTML = '';\n",
              "        dataTable['output_type'] = 'display_data';\n",
              "        await google.colab.output.renderOutput(dataTable, element);\n",
              "        const docLink = document.createElement('div');\n",
              "        docLink.innerHTML = docLinkHtml;\n",
              "        element.appendChild(docLink);\n",
              "      }\n",
              "    </script>\n",
              "  </div>\n",
              "\n",
              "\n",
              "<div id=\"df-05e26920-d729-49bc-bdc7-6d65f89e2233\">\n",
              "  <button class=\"colab-df-quickchart\" onclick=\"quickchart('df-05e26920-d729-49bc-bdc7-6d65f89e2233')\"\n",
              "            title=\"Suggest charts\"\n",
              "            style=\"display:none;\">\n",
              "\n",
              "<svg xmlns=\"http://www.w3.org/2000/svg\" height=\"24px\"viewBox=\"0 0 24 24\"\n",
              "     width=\"24px\">\n",
              "    <g>\n",
              "        <path d=\"M19 3H5c-1.1 0-2 .9-2 2v14c0 1.1.9 2 2 2h14c1.1 0 2-.9 2-2V5c0-1.1-.9-2-2-2zM9 17H7v-7h2v7zm4 0h-2V7h2v10zm4 0h-2v-4h2v4z\"/>\n",
              "    </g>\n",
              "</svg>\n",
              "  </button>\n",
              "\n",
              "<style>\n",
              "  .colab-df-quickchart {\n",
              "      --bg-color: #E8F0FE;\n",
              "      --fill-color: #1967D2;\n",
              "      --hover-bg-color: #E2EBFA;\n",
              "      --hover-fill-color: #174EA6;\n",
              "      --disabled-fill-color: #AAA;\n",
              "      --disabled-bg-color: #DDD;\n",
              "  }\n",
              "\n",
              "  [theme=dark] .colab-df-quickchart {\n",
              "      --bg-color: #3B4455;\n",
              "      --fill-color: #D2E3FC;\n",
              "      --hover-bg-color: #434B5C;\n",
              "      --hover-fill-color: #FFFFFF;\n",
              "      --disabled-bg-color: #3B4455;\n",
              "      --disabled-fill-color: #666;\n",
              "  }\n",
              "\n",
              "  .colab-df-quickchart {\n",
              "    background-color: var(--bg-color);\n",
              "    border: none;\n",
              "    border-radius: 50%;\n",
              "    cursor: pointer;\n",
              "    display: none;\n",
              "    fill: var(--fill-color);\n",
              "    height: 32px;\n",
              "    padding: 0;\n",
              "    width: 32px;\n",
              "  }\n",
              "\n",
              "  .colab-df-quickchart:hover {\n",
              "    background-color: var(--hover-bg-color);\n",
              "    box-shadow: 0 1px 2px rgba(60, 64, 67, 0.3), 0 1px 3px 1px rgba(60, 64, 67, 0.15);\n",
              "    fill: var(--button-hover-fill-color);\n",
              "  }\n",
              "\n",
              "  .colab-df-quickchart-complete:disabled,\n",
              "  .colab-df-quickchart-complete:disabled:hover {\n",
              "    background-color: var(--disabled-bg-color);\n",
              "    fill: var(--disabled-fill-color);\n",
              "    box-shadow: none;\n",
              "  }\n",
              "\n",
              "  .colab-df-spinner {\n",
              "    border: 2px solid var(--fill-color);\n",
              "    border-color: transparent;\n",
              "    border-bottom-color: var(--fill-color);\n",
              "    animation:\n",
              "      spin 1s steps(1) infinite;\n",
              "  }\n",
              "\n",
              "  @keyframes spin {\n",
              "    0% {\n",
              "      border-color: transparent;\n",
              "      border-bottom-color: var(--fill-color);\n",
              "      border-left-color: var(--fill-color);\n",
              "    }\n",
              "    20% {\n",
              "      border-color: transparent;\n",
              "      border-left-color: var(--fill-color);\n",
              "      border-top-color: var(--fill-color);\n",
              "    }\n",
              "    30% {\n",
              "      border-color: transparent;\n",
              "      border-left-color: var(--fill-color);\n",
              "      border-top-color: var(--fill-color);\n",
              "      border-right-color: var(--fill-color);\n",
              "    }\n",
              "    40% {\n",
              "      border-color: transparent;\n",
              "      border-right-color: var(--fill-color);\n",
              "      border-top-color: var(--fill-color);\n",
              "    }\n",
              "    60% {\n",
              "      border-color: transparent;\n",
              "      border-right-color: var(--fill-color);\n",
              "    }\n",
              "    80% {\n",
              "      border-color: transparent;\n",
              "      border-right-color: var(--fill-color);\n",
              "      border-bottom-color: var(--fill-color);\n",
              "    }\n",
              "    90% {\n",
              "      border-color: transparent;\n",
              "      border-bottom-color: var(--fill-color);\n",
              "    }\n",
              "  }\n",
              "</style>\n",
              "\n",
              "  <script>\n",
              "    async function quickchart(key) {\n",
              "      const quickchartButtonEl =\n",
              "        document.querySelector('#' + key + ' button');\n",
              "      quickchartButtonEl.disabled = true;  // To prevent multiple clicks.\n",
              "      quickchartButtonEl.classList.add('colab-df-spinner');\n",
              "      try {\n",
              "        const charts = await google.colab.kernel.invokeFunction(\n",
              "            'suggestCharts', [key], {});\n",
              "      } catch (error) {\n",
              "        console.error('Error during call to suggestCharts:', error);\n",
              "      }\n",
              "      quickchartButtonEl.classList.remove('colab-df-spinner');\n",
              "      quickchartButtonEl.classList.add('colab-df-quickchart-complete');\n",
              "    }\n",
              "    (() => {\n",
              "      let quickchartButtonEl =\n",
              "        document.querySelector('#df-05e26920-d729-49bc-bdc7-6d65f89e2233 button');\n",
              "      quickchartButtonEl.style.display =\n",
              "        google.colab.kernel.accessAllowed ? 'block' : 'none';\n",
              "    })();\n",
              "  </script>\n",
              "</div>\n",
              "\n",
              "  <div id=\"id_7d6d1eb6-efd6-4e48-b8aa-2a3c54beedc7\">\n",
              "    <style>\n",
              "      .colab-df-generate {\n",
              "        background-color: #E8F0FE;\n",
              "        border: none;\n",
              "        border-radius: 50%;\n",
              "        cursor: pointer;\n",
              "        display: none;\n",
              "        fill: #1967D2;\n",
              "        height: 32px;\n",
              "        padding: 0 0 0 0;\n",
              "        width: 32px;\n",
              "      }\n",
              "\n",
              "      .colab-df-generate:hover {\n",
              "        background-color: #E2EBFA;\n",
              "        box-shadow: 0px 1px 2px rgba(60, 64, 67, 0.3), 0px 1px 3px 1px rgba(60, 64, 67, 0.15);\n",
              "        fill: #174EA6;\n",
              "      }\n",
              "\n",
              "      [theme=dark] .colab-df-generate {\n",
              "        background-color: #3B4455;\n",
              "        fill: #D2E3FC;\n",
              "      }\n",
              "\n",
              "      [theme=dark] .colab-df-generate:hover {\n",
              "        background-color: #434B5C;\n",
              "        box-shadow: 0px 1px 3px 1px rgba(0, 0, 0, 0.15);\n",
              "        filter: drop-shadow(0px 1px 2px rgba(0, 0, 0, 0.3));\n",
              "        fill: #FFFFFF;\n",
              "      }\n",
              "    </style>\n",
              "    <button class=\"colab-df-generate\" onclick=\"generateWithVariable('players_22')\"\n",
              "            title=\"Generate code using this dataframe.\"\n",
              "            style=\"display:none;\">\n",
              "\n",
              "  <svg xmlns=\"http://www.w3.org/2000/svg\" height=\"24px\"viewBox=\"0 0 24 24\"\n",
              "       width=\"24px\">\n",
              "    <path d=\"M7,19H8.4L18.45,9,17,7.55,7,17.6ZM5,21V16.75L18.45,3.32a2,2,0,0,1,2.83,0l1.4,1.43a1.91,1.91,0,0,1,.58,1.4,1.91,1.91,0,0,1-.58,1.4L9.25,21ZM18.45,9,17,7.55Zm-12,3A5.31,5.31,0,0,0,4.9,8.1,5.31,5.31,0,0,0,1,6.5,5.31,5.31,0,0,0,4.9,4.9,5.31,5.31,0,0,0,6.5,1,5.31,5.31,0,0,0,8.1,4.9,5.31,5.31,0,0,0,12,6.5,5.46,5.46,0,0,0,6.5,12Z\"/>\n",
              "  </svg>\n",
              "    </button>\n",
              "    <script>\n",
              "      (() => {\n",
              "      const buttonEl =\n",
              "        document.querySelector('#id_7d6d1eb6-efd6-4e48-b8aa-2a3c54beedc7 button.colab-df-generate');\n",
              "      buttonEl.style.display =\n",
              "        google.colab.kernel.accessAllowed ? 'block' : 'none';\n",
              "\n",
              "      buttonEl.onclick = () => {\n",
              "        google.colab.notebook.generateWithVariable('players_22');\n",
              "      }\n",
              "      })();\n",
              "    </script>\n",
              "  </div>\n",
              "\n",
              "    </div>\n",
              "  </div>\n"
            ],
            "application/vnd.google.colaboratory.intrinsic+json": {
              "type": "dataframe",
              "variable_name": "players_22"
            }
          },
          "metadata": {},
          "execution_count": 15
        }
      ],
      "source": [
        "players_22 = players_22[num_cols_for_players_22].head()\n",
        "players_22"
      ]
    },
    {
      "cell_type": "code",
      "execution_count": 16,
      "id": "49DzmRh55v8h",
      "metadata": {
        "colab": {
          "base_uri": "https://localhost:8080/"
        },
        "id": "49DzmRh55v8h",
        "outputId": "d964e923-b9d3-4044-8dfd-d42ac05ffa81"
      },
      "outputs": [
        {
          "output_type": "stream",
          "name": "stdout",
          "text": [
            "['pace', 'shooting', 'passing', 'dribbling', 'defending', 'physic'] \n",
            "\n"
          ]
        }
      ],
      "source": [
        "# Print the columns names containing null values or missing values in the form of a list\n",
        "\n",
        "# For male_players\n",
        "missing_values_for_male_players = male_players.isnull().sum()\n",
        "columns_with_missing_values_for_male_players = missing_values_for_male_players[missing_values_for_male_players > 0].index.tolist()\n",
        "\n",
        "print(columns_with_missing_values_for_male_players,\"\\n\")"
      ]
    },
    {
      "cell_type": "code",
      "execution_count": 17,
      "id": "_q-T-VLCnOdU",
      "metadata": {
        "colab": {
          "base_uri": "https://localhost:8080/"
        },
        "id": "_q-T-VLCnOdU",
        "outputId": "4dd0a5a1-4517-48b3-ea12-4aa36976cb4e"
      },
      "outputs": [
        {
          "output_type": "stream",
          "name": "stdout",
          "text": [
            "[]\n"
          ]
        }
      ],
      "source": [
        "# Print the columns names containing null values or missing values in the form of a list\n",
        "\n",
        "# For male_players\n",
        "missing_values_for_players_22 = players_22.isnull().sum()\n",
        "columns_with_missing_values_for_players_22 = missing_values_for_players_22[missing_values_for_players_22 > 0].index.tolist()\n",
        "\n",
        "print(columns_with_missing_values_for_players_22)"
      ]
    },
    {
      "cell_type": "code",
      "execution_count": 18,
      "id": "pisfUjvazf5h",
      "metadata": {
        "id": "pisfUjvazf5h"
      },
      "outputs": [],
      "source": [
        "# Fill NaN values with the mean of the column\n",
        "\n",
        "\n",
        "male_players = male_players.fillna(male_players.mean())"
      ]
    },
    {
      "cell_type": "code",
      "execution_count": 19,
      "id": "e-7bg2J-52qJ",
      "metadata": {
        "colab": {
          "base_uri": "https://localhost:8080/"
        },
        "id": "e-7bg2J-52qJ",
        "outputId": "f94c6d51-b12c-40ed-9d3c-9404870af32b"
      },
      "outputs": [
        {
          "output_type": "stream",
          "name": "stdout",
          "text": [
            "[] \n",
            "\n"
          ]
        }
      ],
      "source": [
        "# Again, Print the columns names containing null values or missing values in the form of a list\n",
        "\n",
        "# For male_players\n",
        "missing_values_for_male_players = male_players.isnull().sum()\n",
        "columns_with_missing_values_for_male_players = missing_values_for_male_players[missing_values_for_male_players > 0].index.tolist()\n",
        "\n",
        "print(columns_with_missing_values_for_male_players,\"\\n\")"
      ]
    },
    {
      "cell_type": "code",
      "execution_count": null,
      "id": "ZmbjZe5KVGUe",
      "metadata": {
        "id": "ZmbjZe5KVGUe"
      },
      "outputs": [],
      "source": [
        "male_players.head()"
      ]
    },
    {
      "cell_type": "code",
      "execution_count": null,
      "id": "vyICrqh-B9B0",
      "metadata": {
        "id": "vyICrqh-B9B0"
      },
      "outputs": [],
      "source": [
        "players_22.head()"
      ]
    },
    {
      "cell_type": "code",
      "execution_count": 21,
      "id": "xf3s35ZRxJea",
      "metadata": {
        "id": "xf3s35ZRxJea"
      },
      "outputs": [],
      "source": [
        "# Convert categorical features into numeric for male_players\n",
        "preferred_foot_for_male_players = pd.get_dummies(preferred_foot_for_male_players, prefix='preferred_foot')\n",
        "work_rate_for_male_players  = pd.get_dummies(work_rate_for_male_players , prefix='work_rate')\n",
        "\n",
        "\n",
        "# Convert categorical features into numeric for players_22\n",
        "preferred_foot_for_players_22 = pd.get_dummies(preferred_foot_for_players_22, prefix='preferred_foot')\n",
        "work_rate_for_players_22 = pd.get_dummies(work_rate_for_players_22, prefix='work_rate')"
      ]
    },
    {
      "cell_type": "code",
      "execution_count": null,
      "id": "9PJFDVVtxJbI",
      "metadata": {
        "id": "9PJFDVVtxJbI"
      },
      "outputs": [],
      "source": [
        "preferred_foot_for_male_players"
      ]
    },
    {
      "cell_type": "code",
      "execution_count": null,
      "id": "g8kFzqIFxJZL",
      "metadata": {
        "colab": {
          "base_uri": "https://localhost:8080/"
        },
        "id": "g8kFzqIFxJZL",
        "outputId": "26595a65-06e2-4be7-b11f-fc5ac923fcab"
      },
      "outputs": [
        {
          "data": {
            "text/plain": [
              "(161583, 9)"
            ]
          },
          "execution_count": 185,
          "metadata": {},
          "output_type": "execute_result"
        }
      ],
      "source": [
        "work_rate_for_male_players"
      ]
    },
    {
      "cell_type": "code",
      "execution_count": null,
      "id": "cl_gr2ug_e5K",
      "metadata": {
        "id": "cl_gr2ug_e5K"
      },
      "outputs": [],
      "source": [
        "preferred_foot_for_players_22"
      ]
    },
    {
      "cell_type": "code",
      "execution_count": null,
      "id": "b1Stlgqe_e1e",
      "metadata": {
        "id": "b1Stlgqe_e1e"
      },
      "outputs": [],
      "source": [
        "work_rate_for_players_22"
      ]
    },
    {
      "cell_type": "code",
      "execution_count": null,
      "id": "O-YK55Dn7RqP",
      "metadata": {
        "id": "O-YK55Dn7RqP"
      },
      "outputs": [],
      "source": [
        "male_players"
      ]
    },
    {
      "cell_type": "code",
      "execution_count": null,
      "id": "y68u3uFloIh6",
      "metadata": {
        "id": "y68u3uFloIh6"
      },
      "outputs": [],
      "source": [
        "players_22"
      ]
    },
    {
      "cell_type": "code",
      "execution_count": 22,
      "id": "yYsbroYPojtV",
      "metadata": {
        "colab": {
          "base_uri": "https://localhost:8080/"
        },
        "id": "yYsbroYPojtV",
        "outputId": "4c622415-da4a-49bd-eb03-3ca9a89fa61e"
      },
      "outputs": [
        {
          "output_type": "stream",
          "name": "stdout",
          "text": [
            "[] \n",
            "\n"
          ]
        }
      ],
      "source": [
        "# Again, Print the columns names containing null values or missing values in the form of a list\n",
        "\n",
        "# For male_players\n",
        "missing_values_for_male_players = male_players.isnull().sum()\n",
        "columns_with_missing_values_for_male_players = missing_values_for_male_players[missing_values_for_male_players > 0].index.tolist()\n",
        "\n",
        "print(columns_with_missing_values_for_male_players,\"\\n\")"
      ]
    },
    {
      "cell_type": "code",
      "execution_count": 23,
      "id": "jbYMsFgG_OQz",
      "metadata": {
        "id": "jbYMsFgG_OQz"
      },
      "outputs": [],
      "source": [
        "# Join both transformed numeric and non-numeric columns to form fully numeric columns\n",
        "male_players = pd.concat([male_players, preferred_foot_for_male_players, work_rate_for_male_players,], axis=1)\n",
        "\n",
        "players_22 = pd.concat([players_22, preferred_foot_for_players_22, work_rate_for_players_22], axis=1)\n"
      ]
    },
    {
      "cell_type": "code",
      "execution_count": null,
      "id": "1JG0ROkXEku9",
      "metadata": {
        "colab": {
          "base_uri": "https://localhost:8080/"
        },
        "id": "1JG0ROkXEku9",
        "outputId": "04c867c6-cb92-43b4-cad0-4ab582cb5f75"
      },
      "outputs": [
        {
          "data": {
            "text/plain": [
              "(161583, 65)"
            ]
          },
          "execution_count": 181,
          "metadata": {},
          "output_type": "execute_result"
        }
      ],
      "source": [
        "male_players.shape"
      ]
    },
    {
      "cell_type": "code",
      "execution_count": null,
      "id": "9FIeT2zS_ON8",
      "metadata": {
        "colab": {
          "base_uri": "https://localhost:8080/"
        },
        "id": "9FIeT2zS_ON8",
        "outputId": "f4e9ce7a-f870-4bff-ccaf-b7306173224e"
      },
      "outputs": [
        {
          "data": {
            "text/plain": [
              "(19239, 67)"
            ]
          },
          "execution_count": 182,
          "metadata": {},
          "output_type": "execute_result"
        }
      ],
      "source": [
        "players_22.shape"
      ]
    },
    {
      "cell_type": "code",
      "execution_count": null,
      "id": "wT7h5HpE8OzQ",
      "metadata": {
        "id": "wT7h5HpE8OzQ"
      },
      "outputs": [],
      "source": [
        "## At this point male_players only has numeric features in the dataset. Lets impute the missing values if any.\n",
        "\n",
        "# for male_players\n",
        "imp = SimpleImputer()\n",
        "\n",
        "# Fit and transform the data\n",
        "try:\n",
        "    imputed_data_for_male_players = imp.fit_transform(male_players)\n",
        "    male_players = pd.DataFrame(imputed_data_for_male_players, columns=male_players.columns)\n",
        "    print(male_players)\n",
        "except ValueError as e:\n",
        "    print(\"Error during imputation:\", e)\n",
        "\n"
      ]
    },
    {
      "cell_type": "code",
      "execution_count": 25,
      "id": "1nwiALOS8TJX",
      "metadata": {
        "id": "1nwiALOS8TJX"
      },
      "outputs": [],
      "source": [
        "## At this point players_21 and players_22 only have numeric features in the dataset. Lets impute the missing values.\n",
        "\n",
        "# for players_22\n",
        "imp = SimpleImputer(strategy='most_frequent')\n",
        "imputed_data_22 = imp.fit_transform(players_22)\n",
        "players_22 = pd.DataFrame(imputed_data_22, columns=players_22.columns)\n"
      ]
    },
    {
      "cell_type": "code",
      "execution_count": 26,
      "id": "QpVOmbplzomQ",
      "metadata": {
        "colab": {
          "base_uri": "https://localhost:8080/"
        },
        "id": "QpVOmbplzomQ",
        "outputId": "9d190474-65d3-4730-c330-0c84fc20e23f"
      },
      "outputs": [
        {
          "output_type": "stream",
          "name": "stdout",
          "text": [
            "[] \n",
            "\n"
          ]
        }
      ],
      "source": [
        "# Print the columns names containing null values or missing values in the form of a list\n",
        "\n",
        "# For male_players\n",
        "missing_values_for_male_players = male_players.isnull().sum()\n",
        "columns_with_missing_values_for_male_players = missing_values_for_male_players[missing_values_for_male_players > 0].index.tolist()\n",
        "\n",
        "print(columns_with_missing_values_for_male_players,\"\\n\")"
      ]
    },
    {
      "cell_type": "code",
      "execution_count": 27,
      "id": "7VTMFRoyzohd",
      "metadata": {
        "colab": {
          "base_uri": "https://localhost:8080/"
        },
        "id": "7VTMFRoyzohd",
        "outputId": "d988c02b-2710-4ab7-f399-37618867654a"
      },
      "outputs": [
        {
          "output_type": "stream",
          "name": "stdout",
          "text": [
            "[]\n"
          ]
        }
      ],
      "source": [
        "# Print the columns names containing null values or missing values in the form of a list\n",
        "\n",
        "# For players_22\n",
        "missing_values_for_players_22 = players_22.isnull().sum()\n",
        "columns_with_missing_values_for_players_22 = missing_values_for_players_22[missing_values_for_players_22 > 0].index.tolist()\n",
        "\n",
        "print(columns_with_missing_values_for_players_22)"
      ]
    },
    {
      "cell_type": "code",
      "execution_count": null,
      "id": "ZCYk6H9DKqar",
      "metadata": {
        "id": "ZCYk6H9DKqar"
      },
      "outputs": [],
      "source": [
        "players_22"
      ]
    },
    {
      "cell_type": "code",
      "execution_count": null,
      "id": "jxwKDSLuK8eC",
      "metadata": {
        "id": "jxwKDSLuK8eC"
      },
      "outputs": [],
      "source": [
        "male_players"
      ]
    },
    {
      "cell_type": "markdown",
      "id": "XvQ-_4rEF3JS",
      "metadata": {
        "id": "XvQ-_4rEF3JS"
      },
      "source": [
        "Feature Selection"
      ]
    },
    {
      "cell_type": "code",
      "execution_count": null,
      "id": "q8eUizgU_OIb",
      "metadata": {
        "id": "q8eUizgU_OIb"
      },
      "outputs": [],
      "source": [
        "# Calculate the correlation between each feature and the target variable\n",
        "correlation_matrix = male_players.corr()\n",
        "target_correlation = correlation_matrix['overall_rating'].drop('overall_rating')\n",
        "\n",
        "# Select the top-k features with the highest absolute correlation\n",
        "k = 20\n",
        "top_k_features = target_correlation[target_correlation > 0.5].abs().nlargest(k).index\n",
        "\n",
        "# Collect the column names of top_k_features in a list and store it in the 'selected_features' variable\n",
        "selected_features = top_k_features.tolist()\n",
        "\n",
        "# Display the selected features and their correlation with the target variable\n",
        "print(f\"\\nTop {k} features with maximum correlation with the target variable:\\n\")\n",
        "print(male_players[top_k_features])\n",
        "\n",
        "'''\n",
        "#The correlation matrix produces the some results for players_22\n",
        "\n",
        "# Calculate the correlation between each feature and the target variable\n",
        "correlation_matrix = players_22.corr()\n",
        "target_correlation = correlation_matrix['overall_rating'].drop('overall_rating')\n",
        "\n",
        "# Select the top-k features with the highest absolute correlation\n",
        "k = 20\n",
        "top_k_features = target_correlation[target_correlation > 0.5].abs().nlargest(k).index\n",
        "\n",
        "# Collect the column names of top_k_features in a list and store it in the 'selected_features' variable\n",
        "selected_features = top_k_features.tolist()\n",
        "\n",
        "# Display the selected features and their correlation with the target variable\n",
        "print(f\"\\nTop {k} features with maximum correlation with the target variable:\\n\")\n",
        "print(players_22[top_k_features])\n",
        "\n",
        "print(selected_features)\n",
        "\n",
        "'''"
      ]
    },
    {
      "cell_type": "code",
      "execution_count": 32,
      "id": "OqVbqb-d_OGd",
      "metadata": {
        "id": "OqVbqb-d_OGd",
        "colab": {
          "base_uri": "https://localhost:8080/"
        },
        "outputId": "f6e4296f-06bc-4f8a-e4cc-f4ddd7fb0e40"
      },
      "outputs": [
        {
          "output_type": "execute_result",
          "data": {
            "text/plain": [
              "['potential',\n",
              " 'value_eur',\n",
              " 'wage_eur',\n",
              " 'movement_reactions',\n",
              " 'dribbling',\n",
              " 'movement_acceleration',\n",
              " 'attacking_heading_accuracy',\n",
              " 'movement_balance',\n",
              " 'movement_sprint_speed',\n",
              " 'passing',\n",
              " 'pace']"
            ]
          },
          "metadata": {},
          "execution_count": 32
        }
      ],
      "source": [
        "# List of features that would be trained\n",
        "selected_features"
      ]
    },
    {
      "cell_type": "code",
      "execution_count": 61,
      "id": "eSFdJXznqfn1",
      "metadata": {
        "id": "eSFdJXznqfn1"
      },
      "outputs": [],
      "source": [
        "# Select the the independent (X) and dependent (Y) variables\n",
        "X = male_players[selected_features]\n",
        "y = male_players['overall_rating']"
      ]
    },
    {
      "cell_type": "code",
      "execution_count": 36,
      "id": "Jp068p_iqfld",
      "metadata": {
        "id": "Jp068p_iqfld",
        "colab": {
          "base_uri": "https://localhost:8080/",
          "height": 206
        },
        "outputId": "b0540ad7-dd6a-4fb3-8b12-974e6dc4644b"
      },
      "outputs": [
        {
          "output_type": "execute_result",
          "data": {
            "text/plain": [
              "   potential    value_eur  wage_eur  movement_reactions  dribbling  \\\n",
              "0       95.0  100500000.0  550000.0                94.0      96.00   \n",
              "1       92.0   79000000.0  375000.0                90.0      91.00   \n",
              "2       90.0   54500000.0  275000.0                89.0      92.00   \n",
              "3       90.0   52500000.0  275000.0                85.0      86.00   \n",
              "4       90.0   63500000.0  300000.0                89.0      91.25   \n",
              "\n",
              "   movement_acceleration  attacking_heading_accuracy  movement_balance  \\\n",
              "0                   96.0                        71.0              95.0   \n",
              "1                   91.0                        86.0              63.0   \n",
              "2                   93.0                        50.0              91.0   \n",
              "3                   74.0                        76.0              41.0   \n",
              "4                   58.0                        25.0              35.0   \n",
              "\n",
              "   movement_sprint_speed  passing   pace  \n",
              "0                   90.0    86.00  93.00  \n",
              "1                   94.0    81.00  93.00  \n",
              "2                   93.0    83.00  93.00  \n",
              "3                   77.0    81.00  76.00  \n",
              "4                   61.0    82.75  88.75  "
            ],
            "text/html": [
              "\n",
              "  <div id=\"df-8cd7bbe7-b736-4b9a-8572-322f7032f354\" class=\"colab-df-container\">\n",
              "    <div>\n",
              "<style scoped>\n",
              "    .dataframe tbody tr th:only-of-type {\n",
              "        vertical-align: middle;\n",
              "    }\n",
              "\n",
              "    .dataframe tbody tr th {\n",
              "        vertical-align: top;\n",
              "    }\n",
              "\n",
              "    .dataframe thead th {\n",
              "        text-align: right;\n",
              "    }\n",
              "</style>\n",
              "<table border=\"1\" class=\"dataframe\">\n",
              "  <thead>\n",
              "    <tr style=\"text-align: right;\">\n",
              "      <th></th>\n",
              "      <th>potential</th>\n",
              "      <th>value_eur</th>\n",
              "      <th>wage_eur</th>\n",
              "      <th>movement_reactions</th>\n",
              "      <th>dribbling</th>\n",
              "      <th>movement_acceleration</th>\n",
              "      <th>attacking_heading_accuracy</th>\n",
              "      <th>movement_balance</th>\n",
              "      <th>movement_sprint_speed</th>\n",
              "      <th>passing</th>\n",
              "      <th>pace</th>\n",
              "    </tr>\n",
              "  </thead>\n",
              "  <tbody>\n",
              "    <tr>\n",
              "      <th>0</th>\n",
              "      <td>95.0</td>\n",
              "      <td>100500000.0</td>\n",
              "      <td>550000.0</td>\n",
              "      <td>94.0</td>\n",
              "      <td>96.00</td>\n",
              "      <td>96.0</td>\n",
              "      <td>71.0</td>\n",
              "      <td>95.0</td>\n",
              "      <td>90.0</td>\n",
              "      <td>86.00</td>\n",
              "      <td>93.00</td>\n",
              "    </tr>\n",
              "    <tr>\n",
              "      <th>1</th>\n",
              "      <td>92.0</td>\n",
              "      <td>79000000.0</td>\n",
              "      <td>375000.0</td>\n",
              "      <td>90.0</td>\n",
              "      <td>91.00</td>\n",
              "      <td>91.0</td>\n",
              "      <td>86.0</td>\n",
              "      <td>63.0</td>\n",
              "      <td>94.0</td>\n",
              "      <td>81.00</td>\n",
              "      <td>93.00</td>\n",
              "    </tr>\n",
              "    <tr>\n",
              "      <th>2</th>\n",
              "      <td>90.0</td>\n",
              "      <td>54500000.0</td>\n",
              "      <td>275000.0</td>\n",
              "      <td>89.0</td>\n",
              "      <td>92.00</td>\n",
              "      <td>93.0</td>\n",
              "      <td>50.0</td>\n",
              "      <td>91.0</td>\n",
              "      <td>93.0</td>\n",
              "      <td>83.00</td>\n",
              "      <td>93.00</td>\n",
              "    </tr>\n",
              "    <tr>\n",
              "      <th>3</th>\n",
              "      <td>90.0</td>\n",
              "      <td>52500000.0</td>\n",
              "      <td>275000.0</td>\n",
              "      <td>85.0</td>\n",
              "      <td>86.00</td>\n",
              "      <td>74.0</td>\n",
              "      <td>76.0</td>\n",
              "      <td>41.0</td>\n",
              "      <td>77.0</td>\n",
              "      <td>81.00</td>\n",
              "      <td>76.00</td>\n",
              "    </tr>\n",
              "    <tr>\n",
              "      <th>4</th>\n",
              "      <td>90.0</td>\n",
              "      <td>63500000.0</td>\n",
              "      <td>300000.0</td>\n",
              "      <td>89.0</td>\n",
              "      <td>91.25</td>\n",
              "      <td>58.0</td>\n",
              "      <td>25.0</td>\n",
              "      <td>35.0</td>\n",
              "      <td>61.0</td>\n",
              "      <td>82.75</td>\n",
              "      <td>88.75</td>\n",
              "    </tr>\n",
              "  </tbody>\n",
              "</table>\n",
              "</div>\n",
              "    <div class=\"colab-df-buttons\">\n",
              "\n",
              "  <div class=\"colab-df-container\">\n",
              "    <button class=\"colab-df-convert\" onclick=\"convertToInteractive('df-8cd7bbe7-b736-4b9a-8572-322f7032f354')\"\n",
              "            title=\"Convert this dataframe to an interactive table.\"\n",
              "            style=\"display:none;\">\n",
              "\n",
              "  <svg xmlns=\"http://www.w3.org/2000/svg\" height=\"24px\" viewBox=\"0 -960 960 960\">\n",
              "    <path d=\"M120-120v-720h720v720H120Zm60-500h600v-160H180v160Zm220 220h160v-160H400v160Zm0 220h160v-160H400v160ZM180-400h160v-160H180v160Zm440 0h160v-160H620v160ZM180-180h160v-160H180v160Zm440 0h160v-160H620v160Z\"/>\n",
              "  </svg>\n",
              "    </button>\n",
              "\n",
              "  <style>\n",
              "    .colab-df-container {\n",
              "      display:flex;\n",
              "      gap: 12px;\n",
              "    }\n",
              "\n",
              "    .colab-df-convert {\n",
              "      background-color: #E8F0FE;\n",
              "      border: none;\n",
              "      border-radius: 50%;\n",
              "      cursor: pointer;\n",
              "      display: none;\n",
              "      fill: #1967D2;\n",
              "      height: 32px;\n",
              "      padding: 0 0 0 0;\n",
              "      width: 32px;\n",
              "    }\n",
              "\n",
              "    .colab-df-convert:hover {\n",
              "      background-color: #E2EBFA;\n",
              "      box-shadow: 0px 1px 2px rgba(60, 64, 67, 0.3), 0px 1px 3px 1px rgba(60, 64, 67, 0.15);\n",
              "      fill: #174EA6;\n",
              "    }\n",
              "\n",
              "    .colab-df-buttons div {\n",
              "      margin-bottom: 4px;\n",
              "    }\n",
              "\n",
              "    [theme=dark] .colab-df-convert {\n",
              "      background-color: #3B4455;\n",
              "      fill: #D2E3FC;\n",
              "    }\n",
              "\n",
              "    [theme=dark] .colab-df-convert:hover {\n",
              "      background-color: #434B5C;\n",
              "      box-shadow: 0px 1px 3px 1px rgba(0, 0, 0, 0.15);\n",
              "      filter: drop-shadow(0px 1px 2px rgba(0, 0, 0, 0.3));\n",
              "      fill: #FFFFFF;\n",
              "    }\n",
              "  </style>\n",
              "\n",
              "    <script>\n",
              "      const buttonEl =\n",
              "        document.querySelector('#df-8cd7bbe7-b736-4b9a-8572-322f7032f354 button.colab-df-convert');\n",
              "      buttonEl.style.display =\n",
              "        google.colab.kernel.accessAllowed ? 'block' : 'none';\n",
              "\n",
              "      async function convertToInteractive(key) {\n",
              "        const element = document.querySelector('#df-8cd7bbe7-b736-4b9a-8572-322f7032f354');\n",
              "        const dataTable =\n",
              "          await google.colab.kernel.invokeFunction('convertToInteractive',\n",
              "                                                    [key], {});\n",
              "        if (!dataTable) return;\n",
              "\n",
              "        const docLinkHtml = 'Like what you see? Visit the ' +\n",
              "          '<a target=\"_blank\" href=https://colab.research.google.com/notebooks/data_table.ipynb>data table notebook</a>'\n",
              "          + ' to learn more about interactive tables.';\n",
              "        element.innerHTML = '';\n",
              "        dataTable['output_type'] = 'display_data';\n",
              "        await google.colab.output.renderOutput(dataTable, element);\n",
              "        const docLink = document.createElement('div');\n",
              "        docLink.innerHTML = docLinkHtml;\n",
              "        element.appendChild(docLink);\n",
              "      }\n",
              "    </script>\n",
              "  </div>\n",
              "\n",
              "\n",
              "<div id=\"df-bbbe4622-e078-401f-a2c8-e5991ea943a0\">\n",
              "  <button class=\"colab-df-quickchart\" onclick=\"quickchart('df-bbbe4622-e078-401f-a2c8-e5991ea943a0')\"\n",
              "            title=\"Suggest charts\"\n",
              "            style=\"display:none;\">\n",
              "\n",
              "<svg xmlns=\"http://www.w3.org/2000/svg\" height=\"24px\"viewBox=\"0 0 24 24\"\n",
              "     width=\"24px\">\n",
              "    <g>\n",
              "        <path d=\"M19 3H5c-1.1 0-2 .9-2 2v14c0 1.1.9 2 2 2h14c1.1 0 2-.9 2-2V5c0-1.1-.9-2-2-2zM9 17H7v-7h2v7zm4 0h-2V7h2v10zm4 0h-2v-4h2v4z\"/>\n",
              "    </g>\n",
              "</svg>\n",
              "  </button>\n",
              "\n",
              "<style>\n",
              "  .colab-df-quickchart {\n",
              "      --bg-color: #E8F0FE;\n",
              "      --fill-color: #1967D2;\n",
              "      --hover-bg-color: #E2EBFA;\n",
              "      --hover-fill-color: #174EA6;\n",
              "      --disabled-fill-color: #AAA;\n",
              "      --disabled-bg-color: #DDD;\n",
              "  }\n",
              "\n",
              "  [theme=dark] .colab-df-quickchart {\n",
              "      --bg-color: #3B4455;\n",
              "      --fill-color: #D2E3FC;\n",
              "      --hover-bg-color: #434B5C;\n",
              "      --hover-fill-color: #FFFFFF;\n",
              "      --disabled-bg-color: #3B4455;\n",
              "      --disabled-fill-color: #666;\n",
              "  }\n",
              "\n",
              "  .colab-df-quickchart {\n",
              "    background-color: var(--bg-color);\n",
              "    border: none;\n",
              "    border-radius: 50%;\n",
              "    cursor: pointer;\n",
              "    display: none;\n",
              "    fill: var(--fill-color);\n",
              "    height: 32px;\n",
              "    padding: 0;\n",
              "    width: 32px;\n",
              "  }\n",
              "\n",
              "  .colab-df-quickchart:hover {\n",
              "    background-color: var(--hover-bg-color);\n",
              "    box-shadow: 0 1px 2px rgba(60, 64, 67, 0.3), 0 1px 3px 1px rgba(60, 64, 67, 0.15);\n",
              "    fill: var(--button-hover-fill-color);\n",
              "  }\n",
              "\n",
              "  .colab-df-quickchart-complete:disabled,\n",
              "  .colab-df-quickchart-complete:disabled:hover {\n",
              "    background-color: var(--disabled-bg-color);\n",
              "    fill: var(--disabled-fill-color);\n",
              "    box-shadow: none;\n",
              "  }\n",
              "\n",
              "  .colab-df-spinner {\n",
              "    border: 2px solid var(--fill-color);\n",
              "    border-color: transparent;\n",
              "    border-bottom-color: var(--fill-color);\n",
              "    animation:\n",
              "      spin 1s steps(1) infinite;\n",
              "  }\n",
              "\n",
              "  @keyframes spin {\n",
              "    0% {\n",
              "      border-color: transparent;\n",
              "      border-bottom-color: var(--fill-color);\n",
              "      border-left-color: var(--fill-color);\n",
              "    }\n",
              "    20% {\n",
              "      border-color: transparent;\n",
              "      border-left-color: var(--fill-color);\n",
              "      border-top-color: var(--fill-color);\n",
              "    }\n",
              "    30% {\n",
              "      border-color: transparent;\n",
              "      border-left-color: var(--fill-color);\n",
              "      border-top-color: var(--fill-color);\n",
              "      border-right-color: var(--fill-color);\n",
              "    }\n",
              "    40% {\n",
              "      border-color: transparent;\n",
              "      border-right-color: var(--fill-color);\n",
              "      border-top-color: var(--fill-color);\n",
              "    }\n",
              "    60% {\n",
              "      border-color: transparent;\n",
              "      border-right-color: var(--fill-color);\n",
              "    }\n",
              "    80% {\n",
              "      border-color: transparent;\n",
              "      border-right-color: var(--fill-color);\n",
              "      border-bottom-color: var(--fill-color);\n",
              "    }\n",
              "    90% {\n",
              "      border-color: transparent;\n",
              "      border-bottom-color: var(--fill-color);\n",
              "    }\n",
              "  }\n",
              "</style>\n",
              "\n",
              "  <script>\n",
              "    async function quickchart(key) {\n",
              "      const quickchartButtonEl =\n",
              "        document.querySelector('#' + key + ' button');\n",
              "      quickchartButtonEl.disabled = true;  // To prevent multiple clicks.\n",
              "      quickchartButtonEl.classList.add('colab-df-spinner');\n",
              "      try {\n",
              "        const charts = await google.colab.kernel.invokeFunction(\n",
              "            'suggestCharts', [key], {});\n",
              "      } catch (error) {\n",
              "        console.error('Error during call to suggestCharts:', error);\n",
              "      }\n",
              "      quickchartButtonEl.classList.remove('colab-df-spinner');\n",
              "      quickchartButtonEl.classList.add('colab-df-quickchart-complete');\n",
              "    }\n",
              "    (() => {\n",
              "      let quickchartButtonEl =\n",
              "        document.querySelector('#df-bbbe4622-e078-401f-a2c8-e5991ea943a0 button');\n",
              "      quickchartButtonEl.style.display =\n",
              "        google.colab.kernel.accessAllowed ? 'block' : 'none';\n",
              "    })();\n",
              "  </script>\n",
              "</div>\n",
              "\n",
              "    </div>\n",
              "  </div>\n"
            ],
            "application/vnd.google.colaboratory.intrinsic+json": {
              "type": "dataframe",
              "variable_name": "X"
            }
          },
          "metadata": {},
          "execution_count": 36
        }
      ],
      "source": [
        "X.head()"
      ]
    },
    {
      "cell_type": "code",
      "source": [
        "y.head()"
      ],
      "metadata": {
        "colab": {
          "base_uri": "https://localhost:8080/"
        },
        "id": "KcOhwELuZLP8",
        "outputId": "91909f5b-1c07-4511-c49e-c3b7e4e6c992"
      },
      "id": "KcOhwELuZLP8",
      "execution_count": 37,
      "outputs": [
        {
          "output_type": "execute_result",
          "data": {
            "text/plain": [
              "0    93.0\n",
              "1    92.0\n",
              "2    90.0\n",
              "3    90.0\n",
              "4    90.0\n",
              "Name: overall_rating, dtype: float64"
            ]
          },
          "metadata": {},
          "execution_count": 37
        }
      ]
    },
    {
      "cell_type": "code",
      "source": [
        "X.shape"
      ],
      "metadata": {
        "colab": {
          "base_uri": "https://localhost:8080/"
        },
        "id": "VZbjlbD-ZgJm",
        "outputId": "535a14c6-f35b-49b3-a196-ea34dbd2cbb0"
      },
      "id": "VZbjlbD-ZgJm",
      "execution_count": 38,
      "outputs": [
        {
          "output_type": "execute_result",
          "data": {
            "text/plain": [
              "(161583, 11)"
            ]
          },
          "metadata": {},
          "execution_count": 38
        }
      ]
    },
    {
      "cell_type": "code",
      "source": [
        "y.shape"
      ],
      "metadata": {
        "colab": {
          "base_uri": "https://localhost:8080/"
        },
        "id": "dpkmJ-2hZjuJ",
        "outputId": "dd9cce59-6b46-4456-a68e-bfb19b54056e"
      },
      "id": "dpkmJ-2hZjuJ",
      "execution_count": 39,
      "outputs": [
        {
          "output_type": "execute_result",
          "data": {
            "text/plain": [
              "(161583,)"
            ]
          },
          "metadata": {},
          "execution_count": 39
        }
      ]
    },
    {
      "cell_type": "markdown",
      "source": [
        "**Feature Scaling and Training**"
      ],
      "metadata": {
        "id": "eXpg1NR7apoD"
      },
      "id": "eXpg1NR7apoD"
    },
    {
      "cell_type": "code",
      "source": [
        "scaler = StandardScaler()\n",
        "X_scaled = scaler.fit_transform(X)\n",
        "X = pd.DataFrame(X_scaled, columns=X.columns)"
      ],
      "metadata": {
        "id": "oaCU6tHedvZd"
      },
      "id": "oaCU6tHedvZd",
      "execution_count": 62,
      "outputs": []
    },
    {
      "cell_type": "code",
      "source": [
        "# Split the data into training and testing sets\n",
        "x_train, x_test, y_train, y_test = train_test_split(X, y, test_size=0.2, random_state=42)"
      ],
      "metadata": {
        "id": "Y6xo1Q6fdw6u"
      },
      "id": "Y6xo1Q6fdw6u",
      "execution_count": 63,
      "outputs": []
    },
    {
      "cell_type": "code",
      "source": [
        "## View the dimension of the training data and testing data\n",
        "x_train.shape, y_test.shape, y_train.shape, x_test.shape"
      ],
      "metadata": {
        "colab": {
          "base_uri": "https://localhost:8080/"
        },
        "id": "O62xwv-Ud32b",
        "outputId": "436f2172-a6eb-4ce0-b699-1febb3b8ad6f"
      },
      "id": "O62xwv-Ud32b",
      "execution_count": 64,
      "outputs": [
        {
          "output_type": "execute_result",
          "data": {
            "text/plain": [
              "((129266, 11), (32317,), (129266,), (32317, 11))"
            ]
          },
          "metadata": {},
          "execution_count": 64
        }
      ]
    },
    {
      "cell_type": "markdown",
      "source": [
        "**Ensemble Models**"
      ],
      "metadata": {
        "id": "I7mhdDQHb7fS"
      },
      "id": "I7mhdDQHb7fS"
    },
    {
      "cell_type": "code",
      "source": [
        "# Model 1: Train RandomForest, XGBoost and Gradient Boost Regressors models with cv and grid search:\n",
        "models = {\n",
        "    'RandomForest': RandomForestRegressor(),\n",
        "    'XGBoost': XGBRegressor(),\n",
        "    'GradientBoost': GradientBoostingRegressor()\n",
        "}\n",
        "\n",
        "params = {\n",
        "    'RandomForest': {'n_estimators': [4, 5], 'max_depth': [None, 5]},\n",
        "    'XGBoost': {'n_estimators': [5, 6], 'learning_rate': [0.01, 0.1]},\n",
        "    'GradientBoost': {'n_estimators': [4, 6], 'learning_rate': [0.01, 0.1]}\n",
        "}\n",
        "\n",
        "for name, model in models.items():\n",
        "    gs = GridSearchCV(model, params[name], cv=5)\n",
        "    gs.fit(x_train, y_train)\n",
        "    # Make predictions using the best model from GridSearchCV\n",
        "    y_pred = gs.predict(x_test)\n",
        "\n",
        "    # Evaluate the model\n",
        "    mae = mean_absolute_error(y_test, y_pred)\n",
        "    mse = mean_squared_error(y_test, y_pred)\n",
        "    r2 = r2_score(y_test, y_pred)\n",
        "\n",
        "    print(f\"\\nBest parameters for {name}: {gs.best_params_}\")\n",
        "    print(f\"Validation score for {name}: {gs.score(x_test, y_test)}\")\n",
        "    print(f\"mean_absolute_error for {name}: {mae}\")\n",
        "    print(f\"mean_squared_error for {name}: {mse}\",)\n",
        "    print(f\"r2_score for {name}: {r2}\\n\")"
      ],
      "metadata": {
        "colab": {
          "base_uri": "https://localhost:8080/"
        },
        "id": "i9LlY-SGb9qC",
        "outputId": "830fcca7-be9a-4cd2-819c-8fb19c3e0754"
      },
      "id": "i9LlY-SGb9qC",
      "execution_count": 68,
      "outputs": [
        {
          "output_type": "stream",
          "name": "stdout",
          "text": [
            "\n",
            "Best parameters for RandomForest: {'max_depth': 5, 'n_estimators': 5}\n",
            "Validation score for RandomForest: 0.5359971284285554\n",
            "mean_absolute_error for RandomForest: 6.188693257418696e-05\n",
            "mean_squared_error for RandomForest: 7.178884178605716e-05\n",
            "r2_score for RandomForest: 0.5359971284285554\n",
            "\n",
            "\n",
            "Best parameters for XGBoost: {'learning_rate': 0.1, 'n_estimators': 6}\n",
            "Validation score for XGBoost: 0.3104973362891621\n",
            "mean_absolute_error for XGBoost: 8.177288792107289e-05\n",
            "mean_squared_error for XGBoost: 0.00010667735194949285\n",
            "r2_score for XGBoost: 0.3104973362891621\n",
            "\n",
            "\n",
            "Best parameters for GradientBoost: {'learning_rate': 0.1, 'n_estimators': 4}\n",
            "Validation score for GradientBoost: 0.11389817925153545\n",
            "mean_absolute_error for GradientBoost: 8.726420728174488e-05\n",
            "mean_squared_error for GradientBoost: 0.00013709446064549634\n",
            "r2_score for GradientBoost: 0.11389817925153545\n",
            "\n"
          ]
        }
      ]
    },
    {
      "cell_type": "code",
      "source": [
        "'''\n",
        "Mean Squared Error (MSE) is a common metric for regression problems,\n",
        "and it measures the average of the squared differences between the\n",
        "predicted values and the actual values. A lower MSE indicates that\n",
        "the model's predictions are, on average, closer to the true values.\n",
        "Lower MSE often corresponds to better model performance.\n",
        "'''\n",
        "\n",
        "rf_model = RandomForestRegressor(\n",
        "    n_estimators=100,\n",
        "    max_depth=None,\n",
        "    min_samples_split=2,\n",
        "    min_samples_leaf=1,\n",
        "    max_features='auto',\n",
        "    random_state=42\n",
        ")\n",
        "\n",
        "# Train the model\n",
        "rf_model.fit(x_train, y_train)\n",
        "y_pred = rf_model.predict(x_test)\n",
        "\n",
        "# Evaluate the model\n",
        "mae = mean_absolute_error(y_test, y_pred)\n",
        "mse = mean_squared_error(y_test, y_pred)\n",
        "r2 = r2_score(y_test, y_pred)\n",
        "\n",
        "print(\"mean_absolute_error:\",mae)\n",
        "print(\"mean_squared_error:\",mse)\n",
        "print(\"r2_score:\",r2)\n"
      ],
      "metadata": {
        "colab": {
          "base_uri": "https://localhost:8080/"
        },
        "id": "SRfTURGPb9tL",
        "outputId": "673d135f-ea11-4bcb-d9ea-9bf27551e7d2"
      },
      "id": "SRfTURGPb9tL",
      "execution_count": 72,
      "outputs": [
        {
          "output_type": "stream",
          "name": "stdout",
          "text": [
            "mean_absolute_error: 6.529071386576722e-05\n",
            "mean_squared_error: 9.00609586285856e-05\n",
            "r2_score: 0.41789639753936014\n"
          ]
        }
      ]
    },
    {
      "cell_type": "code",
      "source": [
        "# Model 2: VotingClassifier\n",
        "\n",
        "decision_tree = DecisionTreeClassifier(random_state=42, criterion='entropy')\n",
        "knn = KNeighborsClassifier(n_neighbors=8)\n",
        "svm = SVC(probability=True, random_state=42)\n",
        "\n",
        "voting_classifier = VotingClassifier(estimators=[\n",
        "    ('decision_tree', decision_tree),\n",
        "    ('knn', knn),\n",
        "    ('svm', svm)\n",
        "], voting='soft')\n",
        "\n",
        "for model in (decision_tree, knn, svm,voting_classifier):\n",
        "  model.fit(x_train,y_train)\n",
        "  y_pred=model.predict(x_test)\n",
        "  print(model.__class__.__name__,accuracy_score(y_pred,y_test))"
      ],
      "metadata": {
        "colab": {
          "base_uri": "https://localhost:8080/"
        },
        "id": "b73DzQxvamIR",
        "outputId": "ff36ace2-9929-4542-deab-15e159c02f70"
      },
      "id": "b73DzQxvamIR",
      "execution_count": 73,
      "outputs": [
        {
          "output_type": "stream",
          "name": "stdout",
          "text": [
            "DecisionTreeClassifier 0.9999690565337129\n",
            "KNeighborsClassifier 0.9999381130674259\n",
            "SVC 0.9999690565337129\n",
            "VotingClassifier 0.9999690565337129\n"
          ]
        }
      ]
    },
    {
      "cell_type": "code",
      "source": [
        "# Model 3: RandomForestClassifier\n",
        "\n",
        "rfc=RandomForestClassifier(n_estimators=20, max_depth=3, criterion='entropy')\n",
        "\n",
        "# Perform cross-validation\n",
        "cv_scores = cross_val_score(rfc, x_train, y_train, cv=5)\n",
        "print(f\"\\nCross-validation scores: {cv_scores}\")\n",
        "print(f\"\\nMean cross-validation score: {cv_scores.mean()}\")\n",
        "\n",
        "# Fit the model\n",
        "rfc.fit(x_train,y_train)\n",
        "y_pred=rfc.predict(x_test)\n",
        "accuracy_score(y_pred,y_test)\n",
        "print('\\nAccuracy of the model:',accuracy_score(y_pred,y_test))\n",
        "\n",
        "# Evaluate the model\n",
        "mae = mean_absolute_error(y_test, y_pred)\n",
        "mse = mean_squared_error(y_test, y_pred)\n",
        "r2 = r2_score(y_test, y_pred)\n",
        "print(\"\\nmean_absolute_error of the model:\",mae)\n",
        "print(\"\\nmean_squared_error of the model:\",mse)\n",
        "print(\"\\nr2_score of the model:\",r2)\n",
        "\n",
        "# Fine-tune the model (RandomForestClassifier) with GridSearchCV\n",
        "n_estimators_range = list(range(1, 31))\n",
        "\n",
        "# Create a parameter grid: map the parameter names to the values that should be searched\n",
        "param_grid = dict(n_estimators=n_estimators_range)\n",
        "\n",
        "grid = GridSearchCV(RandomForestClassifier(max_depth=3, criterion='entropy'), param_grid, cv=10, scoring='accuracy')\n",
        "grid.fit(x_train, y_train)\n",
        "\n",
        "rfc=RandomForestClassifier(n_estimators=grid.best_params_['n_estimators'], max_depth=3, criterion='entropy')\n",
        "rfc.fit(x_train,y_train)\n",
        "y_pred=rfc.predict(x_test)\n",
        "accuracy_score(y_pred,y_test)\n",
        "\n",
        "# Evaluate the model\n",
        "mae = mean_absolute_error(y_test, y_pred)\n",
        "mse = mean_squared_error(y_test, y_pred)\n",
        "r2 = r2_score(y_test, y_pred)\n",
        "\n",
        "# Examine the best model\n",
        "print(\"\\ngrid.best_score:\",grid.best_score_)\n",
        "print(\"\\ngrid.best_params:\",grid.best_params_)\n",
        "print(\"\\ngrid.best_estimator:\",grid.best_estimator_)\n",
        "print(\"\\nAccuracy of the best model:\", accuracy_score(y_pred,y_test))\n",
        "print(\"\\nmean_absolute_error of the best model:\",mae)\n",
        "print(\"\\nmean_squared_error of the best model:\",mse)\n",
        "print(\"\\nr2_score of the best model:\",r2)"
      ],
      "metadata": {
        "colab": {
          "base_uri": "https://localhost:8080/"
        },
        "id": "dZpO9Y4-iojo",
        "outputId": "66bc42fa-6066-4a61-f68b-76b2fd517ec8"
      },
      "id": "dZpO9Y4-iojo",
      "execution_count": 74,
      "outputs": [
        {
          "output_type": "stream",
          "name": "stdout",
          "text": [
            "\n",
            "Cross-validation scores: [0.99996132 1.         1.         0.99996132 0.99996132]\n",
            "\n",
            "Mean cross-validation score: 0.9999767921609\n",
            "\n",
            "Accuracy of the model: 0.9999381130674259\n",
            "\n",
            "mean_absolute_error of the model: 9.283039886128045e-05\n",
            "\n",
            "mean_squared_error of the model: 0.0001547173314354674\n",
            "\n",
            "r2_score of the model: -6.188731557665861e-06\n",
            "\n",
            "grid.best_score: 0.9999845285062273\n",
            "\n",
            "grid.best_params: {'n_estimators': 2}\n",
            "\n",
            "grid.best_estimator: RandomForestClassifier(criterion='entropy', max_depth=3, n_estimators=2)\n",
            "\n",
            "Accuracy of the best model: 0.9999690565337129\n",
            "\n",
            "mean_absolute_error of the best model: 3.094346628709348e-05\n",
            "\n",
            "mean_squared_error of the best model: 3.094346628709348e-05\n",
            "\n",
            "r2_score of the best model: 0.7999987622536885\n"
          ]
        }
      ]
    },
    {
      "cell_type": "code",
      "source": [
        "# correlation between variables in selected_features and the target variable; overall_rating\n",
        "for name, score in zip(x_train.columns, rfc.feature_importances_):\n",
        "  print(name, score)"
      ],
      "metadata": {
        "colab": {
          "base_uri": "https://localhost:8080/"
        },
        "id": "anIr6s13i-6H",
        "outputId": "bbde2b84-88c0-45b1-8e68-d56de0192583"
      },
      "id": "anIr6s13i-6H",
      "execution_count": 75,
      "outputs": [
        {
          "output_type": "stream",
          "name": "stdout",
          "text": [
            "potential 0.0\n",
            "value_eur 0.17292422931890836\n",
            "wage_eur 0.0\n",
            "movement_reactions 0.3506130000786736\n",
            "dribbling 0.0\n",
            "movement_acceleration 0.0\n",
            "attacking_heading_accuracy 0.0\n",
            "movement_balance 0.0\n",
            "movement_sprint_speed 0.0\n",
            "passing 0.0\n",
            "pace 0.4764627706024181\n"
          ]
        }
      ]
    },
    {
      "cell_type": "markdown",
      "source": [
        "**Testing the models using players_22**"
      ],
      "metadata": {
        "id": "Gl2dvc00bklx"
      },
      "id": "Gl2dvc00bklx"
    },
    {
      "cell_type": "code",
      "source": [
        "x_test_22 = players_22[selected_features]\n",
        "y_test_22 = players_22['overall_rating']\n",
        "\n",
        "scaler = StandardScaler()\n",
        "x_test_22_scaled = scaler.fit_transform(x_test_22)\n",
        "x_test_22 = pd.DataFrame(x_test_22_scaled, columns=x_test_22.columns)"
      ],
      "metadata": {
        "id": "-hxiDKPKamF8"
      },
      "id": "-hxiDKPKamF8",
      "execution_count": 76,
      "outputs": []
    },
    {
      "cell_type": "code",
      "source": [
        "# Model 1: Testing players_22 on RandomForest, XGBoost, Gradient Boost Regressors\n",
        "models = {\n",
        "    'RandomForest': RandomForestRegressor(),\n",
        "    'XGBoost': XGBRegressor(),\n",
        "    'GradientBoost': GradientBoostingRegressor()\n",
        "}\n",
        "\n",
        "params = {\n",
        "    'RandomForest': {'n_estimators': [4, 5], 'max_depth': [None, 5]},\n",
        "    'XGBoost': {'n_estimators': [5, 6], 'learning_rate': [0.01, 0.1]},\n",
        "    'GradientBoost': {'n_estimators': [4, 6], 'learning_rate': [0.01, 0.1]}\n",
        "}\n",
        "\n",
        "for name, m in models.items():\n",
        "    gs = GridSearchCV(m, params[name], cv=5)\n",
        "    gs.fit(x_train, y_train)\n",
        "    # Make predictions using the best model from GridSearchCV\n",
        "    y_pred = gs.predict(x_test_22)\n",
        "\n",
        "    # Evaluate the model\n",
        "    mae = mean_absolute_error(y_test_22, y_pred)\n",
        "    mse = mean_squared_error(y_test_22, y_pred)\n",
        "    r2 = r2_score(y_test_22, y_pred)\n",
        "\n",
        "    #print('\\nAccuracy: {}'.format(nb_model.score(x_test, y_test)))\n",
        "    print(f\"\\nBest parameters for {name}: {gs.best_params_}\")\n",
        "    print(f\"Validation score for {name}: {gs.score(x_test_22, y_test_22)}\")\n",
        "    #print()\n",
        "    print(f\"mean_absolute_error for {name}: {mae}\")\n",
        "    print(f\"mean_squared_error for {name}: {mse}\",)\n",
        "    print(f\"r2_score for {name}: {r2}\\n\")"
      ],
      "metadata": {
        "colab": {
          "base_uri": "https://localhost:8080/"
        },
        "id": "7aGRYe8ramDP",
        "outputId": "43977d73-7b65-4057-c79b-a6cfc26acbb6"
      },
      "id": "7aGRYe8ramDP",
      "execution_count": 77,
      "outputs": [
        {
          "output_type": "stream",
          "name": "stdout",
          "text": [
            "\n",
            "Best parameters for RandomForest: {'max_depth': 5, 'n_estimators': 5}\n",
            "Validation score for RandomForest: 0.23992888777992905\n",
            "mean_absolute_error for RandomForest: 0.0001559332605644784\n",
            "mean_squared_error for RandomForest: 0.00019751546338167203\n",
            "r2_score for RandomForest: 0.23992888777992905\n",
            "\n",
            "\n",
            "Best parameters for XGBoost: {'learning_rate': 0.1, 'n_estimators': 6}\n",
            "Validation score for XGBoost: -441.85074790056836\n",
            "mean_absolute_error for XGBoost: 0.3390747840429667\n",
            "mean_squared_error for XGBoost: 0.11508116710949906\n",
            "r2_score for XGBoost: -441.85074790056836\n",
            "\n",
            "\n",
            "Best parameters for GradientBoost: {'learning_rate': 0.1, 'n_estimators': 4}\n",
            "Validation score for GradientBoost: -0.0027240757450004427\n",
            "mean_absolute_error for GradientBoost: 0.00016942818195456107\n",
            "mean_squared_error for GradientBoost: 0.00026057234287755457\n",
            "r2_score for GradientBoost: -0.0027240757450004427\n",
            "\n"
          ]
        }
      ]
    },
    {
      "cell_type": "code",
      "source": [
        "# Model 2: Testing players_22 on VotingClassifier\n",
        "\n",
        "decision_tree = DecisionTreeClassifier(random_state=42, criterion='entropy')\n",
        "knn = KNeighborsClassifier(n_neighbors=8)\n",
        "svm = SVC(probability=True, random_state=42)\n",
        "\n",
        "voting_classifier = VotingClassifier(estimators=[\n",
        "    ('decision_tree', decision_tree),\n",
        "    ('knn', knn),\n",
        "    ('svm', svm)\n",
        "], voting='soft')\n",
        "\n",
        "for model in (decision_tree, knn, svm,voting_classifier):\n",
        "  model.fit(x_train,y_train)\n",
        "  y_pred=model.predict(x_test_22)\n",
        "  print(model.__class__.__name__,accuracy_score(y_pred,y_test_22))"
      ],
      "metadata": {
        "colab": {
          "base_uri": "https://localhost:8080/"
        },
        "id": "Uyy75EZnhapi",
        "outputId": "d274e593-b789-4c72-c3b7-2ecdbae2ca93"
      },
      "id": "Uyy75EZnhapi",
      "execution_count": 78,
      "outputs": [
        {
          "output_type": "stream",
          "name": "stdout",
          "text": [
            "DecisionTreeClassifier 0.999792088985914\n",
            "KNeighborsClassifier 0.999896044492957\n",
            "SVC 0.9997401112323925\n",
            "VotingClassifier 0.999792088985914\n"
          ]
        }
      ]
    },
    {
      "cell_type": "code",
      "source": [
        "# Model 3: Testing players_22 on RandomForestClassifier\n",
        "\n",
        "rfc=RandomForestClassifier(n_estimators=20, max_depth=3, criterion='entropy')\n",
        "\n",
        "# Perform cross-validation\n",
        "cv_scores = cross_val_score(rfc, x_train, y_train, cv=5)\n",
        "print(f\"\\nCross-validation scores: {cv_scores}\")\n",
        "print(f\"\\nMean cross-validation score: {cv_scores.mean()}\")\n",
        "\n",
        "# Fit the model\n",
        "rfc.fit(x_train,y_train)\n",
        "y_pred=rfc.predict(x_test_22)\n",
        "accuracy_score(y_pred,y_test_22)\n",
        "print('\\nAccuracy of the model:',accuracy_score(y_pred,y_test_22))\n",
        "\n",
        "# Evaluate the model\n",
        "mae = mean_absolute_error(y_test_22, y_pred)\n",
        "mse = mean_squared_error(y_test_22, y_pred)\n",
        "r2 = r2_score(y_test_22, y_pred)\n",
        "print(\"\\nmean_absolute_error of the model:\",mae)\n",
        "print(\"\\nmean_squared_error of the model:\",mse)\n",
        "print(\"\\nr2_score of the model:\",r2)\n",
        "\n",
        "# Fine-tune the model (RandomForestClassifier) with GridSearchCV\n",
        "n_estimators_range = list(range(1, 31))\n",
        "\n",
        "# Create a parameter grid: map the parameter names to the values that should be searched\n",
        "param_grid = dict(n_estimators=n_estimators_range)\n",
        "\n",
        "grid = GridSearchCV(RandomForestClassifier(max_depth=3, criterion='entropy'), param_grid, cv=10, scoring='accuracy')\n",
        "grid.fit(x_train, y_train)\n",
        "\n",
        "rfc=RandomForestClassifier(n_estimators=grid.best_params_['n_estimators'], max_depth=3, criterion='entropy')\n",
        "rfc.fit(x_train,y_train)\n",
        "y_pred=rfc.predict(x_test_22)\n",
        "accuracy_score(y_pred,y_test_22)\n",
        "\n",
        "# Evaluate the model\n",
        "mae = mean_absolute_error(y_test_22, y_pred)\n",
        "mse = mean_squared_error(y_test_22, y_pred)\n",
        "r2 = r2_score(y_test_22, y_pred)\n",
        "\n",
        "# Examine the best model\n",
        "print(\"\\ngrid.best_score:\",grid.best_score_)\n",
        "print(\"\\ngrid.best_params:\",grid.best_params_)\n",
        "print(\"\\ngrid.best_estimator:\",grid.best_estimator_)\n",
        "print(\"\\nAccuracy of the best model:\", accuracy_score(y_pred,y_test_22))\n",
        "print(\"\\nmean_absolute_error of the best model:\",mae)\n",
        "print(\"\\nmean_squared_error of the best model:\",mse)\n",
        "print(\"\\nr2_score of the best model:\",r2)"
      ],
      "metadata": {
        "colab": {
          "base_uri": "https://localhost:8080/"
        },
        "id": "NTnjHDKCheUP",
        "outputId": "4c823e0f-d122-460d-91ac-539f4e6100c0"
      },
      "id": "NTnjHDKCheUP",
      "execution_count": 79,
      "outputs": [
        {
          "output_type": "stream",
          "name": "stdout",
          "text": [
            "\n",
            "Cross-validation scores: [0.99996132 1.         1.         0.99996132 0.99996132]\n",
            "\n",
            "Mean cross-validation score: 0.9999767921609\n",
            "\n",
            "Accuracy of the model: 0.999896044492957\n",
            "\n",
            "mean_absolute_error of the model: 0.0001559332605644784\n",
            "\n",
            "mean_squared_error of the model: 0.00025988876760746403\n",
            "\n",
            "r2_score of the model: -9.356871062271566e-05\n",
            "\n",
            "grid.best_score: 0.9999845285062273\n",
            "\n",
            "grid.best_params: {'n_estimators': 1}\n",
            "\n",
            "grid.best_estimator: RandomForestClassifier(criterion='entropy', max_depth=3, n_estimators=1)\n",
            "\n",
            "Accuracy of the best model: 0.999896044492957\n",
            "\n",
            "mean_absolute_error of the best model: 0.0001559332605644784\n",
            "\n",
            "mean_squared_error of the best model: 0.00025988876760746403\n",
            "\n",
            "r2_score of the best model: -9.356871062271566e-05\n"
          ]
        }
      ]
    },
    {
      "cell_type": "code",
      "source": [
        "# correlation between variables in selected_features and the target variable; overall_rating\n",
        "for name, score in zip(x_train.columns, rfc.feature_importances_):\n",
        "  print(name, score)"
      ],
      "metadata": {
        "id": "r8tPv6b2jkj-"
      },
      "id": "r8tPv6b2jkj-",
      "execution_count": null,
      "outputs": []
    },
    {
      "cell_type": "markdown",
      "source": [
        "**Saving RandomForestRegressor model using pickle**"
      ],
      "metadata": {
        "id": "ZAroDnpCjw51"
      },
      "id": "ZAroDnpCjw51"
    },
    {
      "cell_type": "code",
      "source": [
        "filename = 'player_rating_predictor.pkl'\n",
        "pickle.dump(rf_model, open(filename, 'wb'))"
      ],
      "metadata": {
        "id": "tDhd2AjEjkhr"
      },
      "id": "tDhd2AjEjkhr",
      "execution_count": null,
      "outputs": []
    },
    {
      "cell_type": "code",
      "source": [
        "loaded_model = pickle.load(open(filename, 'rb'))\n"
      ],
      "metadata": {
        "id": "1zozO0wHj4Ej"
      },
      "id": "1zozO0wHj4Ej",
      "execution_count": null,
      "outputs": []
    },
    {
      "cell_type": "code",
      "source": [
        "y_pred = loaded_model.predict(x_test)"
      ],
      "metadata": {
        "id": "T1l9FsKij8dp"
      },
      "id": "T1l9FsKij8dp",
      "execution_count": null,
      "outputs": []
    },
    {
      "cell_type": "code",
      "source": [
        "mae = mean_absolute_error(y_test, y_pred)\n",
        "mse = mean_squared_error(y_test, y_pred)\n",
        "r2 = r2_score(y_test, y_pred)\n",
        "\n",
        "print(\"mean_absolute_error:\",mae)\n",
        "print(\"mean_squared_error:\",mse)\n",
        "print(\"r2_score:\",r2)"
      ],
      "metadata": {
        "id": "ZolKCeS_j8ZF"
      },
      "id": "ZolKCeS_j8ZF",
      "execution_count": null,
      "outputs": []
    },
    {
      "cell_type": "code",
      "source": [
        "if isinstance(loaded_model, RandomForestRegressor):\n",
        "    print(\"The model is a RandomForestRegressor.\")\n",
        "else:\n",
        "    print(\"The model is not a RandomForestRegressor.\")"
      ],
      "metadata": {
        "id": "DCAgyk_gj8LY"
      },
      "id": "DCAgyk_gj8LY",
      "execution_count": null,
      "outputs": []
    }
  ],
  "metadata": {
    "colab": {
      "provenance": []
    },
    "kernelspec": {
      "display_name": "Python 3 (ipykernel)",
      "language": "python",
      "name": "python3"
    },
    "language_info": {
      "codemirror_mode": {
        "name": "ipython",
        "version": 3
      },
      "file_extension": ".py",
      "mimetype": "text/x-python",
      "name": "python",
      "nbconvert_exporter": "python",
      "pygments_lexer": "ipython3",
      "version": "3.11.7"
    }
  },
  "nbformat": 4,
  "nbformat_minor": 5
}
